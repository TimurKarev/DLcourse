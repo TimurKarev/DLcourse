{
 "nbformat": 4,
 "nbformat_minor": 2,
 "metadata": {
  "language_info": {
   "name": "python",
   "codemirror_mode": {
    "name": "ipython",
    "version": 3
   },
   "version": "3.7.5-final"
  },
  "orig_nbformat": 2,
  "file_extension": ".py",
  "mimetype": "text/x-python",
  "name": "python",
  "npconvert_exporter": "python",
  "pygments_lexer": "ipython3",
  "version": 3,
  "kernelspec": {
   "name": "python3",
   "display_name": "Python 3"
  }
 },
 "cells": [
  {
   "cell_type": "code",
   "execution_count": 1,
   "metadata": {},
   "outputs": [],
   "source": [
    "import numpy as np\n",
    "from gradient_check import check_gradient\n",
    "import linear_classifer as lc"
   ]
  },
  {
   "cell_type": "code",
   "execution_count": 15,
   "metadata": {},
   "outputs": [
    {
     "data": {
      "text/plain": "array([2, 5, 8])"
     },
     "execution_count": 15,
     "metadata": {},
     "output_type": "execute_result"
    }
   ],
   "source": [
    "i = np.arange(2,10,3)\n",
    "i"
   ]
  },
  {
   "cell_type": "code",
   "execution_count": 2,
   "metadata": {},
   "outputs": [],
   "source": [
    "batch_size = 2\n",
    "num_classes = 2\n",
    "num_features = 3\n",
    "#np.random.seed(42)\n",
    "W = np.random.randint(-1, 3, size=(num_features, num_classes)).astype(np.float)"
   ]
  },
  {
   "cell_type": "code",
   "execution_count": 12,
   "metadata": {},
   "outputs": [
    {
     "name": "stdout",
     "output_type": "stream",
     "text": "[[-1. -1.]\n [ 2.  0.]\n [ 0. -1.]] \n\n [[1. 1.]\n [4. 0.]\n [0. 1.]] \n\n 7.0\n"
    }
   ],
   "source": [
    "W = np.random.randint(-1, 3, size=(num_features, num_classes)).astype(np.float)\n",
    "print (W, \"\\n\\n\", np.square(W), '\\n\\n', np.sum(np.square(W)))"
   ]
  },
  {
   "cell_type": "code",
   "execution_count": 9,
   "metadata": {},
   "outputs": [
    {
     "data": {
      "text/plain": "1"
     },
     "execution_count": 9,
     "metadata": {},
     "output_type": "execute_result"
    }
   ],
   "source": [
    "-1 * -1"
   ]
  },
  {
   "cell_type": "code",
   "execution_count": 7,
   "metadata": {},
   "outputs": [
    {
     "name": "stdout",
     "output_type": "stream",
     "text": "2 [1 0 0] [[8.78619199e-01 1.18908178e-01 2.17787925e-03 2.94743905e-04]\n [4.57640278e-01 2.27845678e-02 6.19348766e-02 4.57640278e-01]\n [6.62272414e-01 4.46235642e-03 2.43636405e-01 8.96288247e-02]]\n2\n"
    },
    {
     "data": {
      "text/plain": "3.3231538262148224"
     },
     "execution_count": 7,
     "metadata": {},
     "output_type": "execute_result"
    }
   ],
   "source": [
    "size_t = (3,4)\n",
    "predictions = np.random.randint(-5,5, size=size_t).astype(np.float)\n",
    "\n",
    "size_t = (5)\n",
    "predictions_sing = np.random.randint(-5,5, size=size_t).astype(np.float)\n",
    "\n",
    "probs = lc.softmax(predictions)\n",
    "\n",
    "ti =-1\n",
    "l = len(probs.shape)\n",
    "if (l == 1):\n",
    "    ti = 2\n",
    "else:\n",
    "    ti = np.array([1,0,0])\n",
    "\n",
    "print(l, ti, probs)\n",
    "\n",
    "lc.cross_entropy_loss(probs, ti)\n"
   ]
  },
  {
   "cell_type": "code",
   "execution_count": 32,
   "metadata": {},
   "outputs": [
    {
     "name": "stdout",
     "output_type": "stream",
     "text": "[[0]\n [3]\n [3]] \n [[8.78619199e-01 1.18908178e-01 2.17787925e-03 2.94743905e-04]\n [4.57640278e-01 2.27845678e-02 6.19348766e-02 4.57640278e-01]\n [6.62272414e-01 4.46235642e-03 2.43636405e-01 8.96288247e-02]] \n\n[[-9.12138080e+00  1.18908178e-01  2.17787925e-03  2.94743905e-04]\n [ 4.57640278e-01  2.27845678e-02  6.19348766e-02 -9.54235972e+00]\n [ 6.62272414e-01  4.46235642e-03  2.43636405e-01 -9.91037118e+00]]\n"
    }
   ],
   "source": [
    "#soft_max[np.arange(len(predictions)), target_index] -= 1\n",
    "probs = lc.softmax(predictions)\n",
    "ti = np.random.randint(0, 4, size=(3, 1)).astype(np.int)\n",
    "print (ti,\"\\n\", probs,'\\n')\n",
    "probs[np.arange(len(probs)), ti[:,0]] -= 10\n",
    "print(probs)"
   ]
  },
  {
   "cell_type": "code",
   "execution_count": 19,
   "metadata": {},
   "outputs": [
    {
     "data": {
      "text/plain": "array([1., 1., 1., 1., 1., 1.])"
     },
     "execution_count": 19,
     "metadata": {},
     "output_type": "execute_result"
    }
   ],
   "source": [
    "l = np.array([5,5,5,5,5,5])\n",
    "l / 5"
   ]
  },
  {
   "cell_type": "code",
   "execution_count": 34,
   "metadata": {},
   "outputs": [
    {
     "name": "stdout",
     "output_type": "stream",
     "text": "[[0. 0. 0. 0. 0. 0. 0. 0.]\n [0. 0. 0. 0. 0. 0. 0. 0.]\n [0. 0. 0. 0. 0. 0. 0. 0.]] 3\n[0 1 5]\n[[1. 0. 0. 0. 0. 0. 0. 0.]\n [0. 1. 0. 0. 0. 0. 0. 0.]\n [0. 0. 0. 0. 0. 1. 0. 0.]] 3\n[[4. 4. 2. 1. 4. 4. 2. 3.]\n [1. 4. 2. 2. 2. 2. 4. 4.]\n [2. 3. 3. 4. 3. 4. 1. 3.]]\n2.8333333333333335 2.8333333333333335\n-4.1588830833596715\n"
    }
   ],
   "source": [
    "size_t = (3,8)\n",
    "\n",
    "probs = np.random.randint(1,5, size=size_t).astype(np.float)\n",
    "gt_bool = np.zeros(size_t, np.float64)\n",
    "ti = np.array([0,1,5])\n",
    "\n",
    "print (gt_bool, len(gt_bool))\n",
    "print (ti)\n",
    "\n",
    "#for i in range(0, len(gt_bool)):\n",
    "#    gt_bool[i][ti[i]] = 1\n",
    "\n",
    "gt_bool[np.arange(len(gt_bool)), ti] = 1\n",
    "\n",
    "print (gt_bool, len(gt_bool))\n",
    "\n",
    "print(probs)\n",
    "m = np.mean(probs, axis=1).mean()\n",
    "m1 = probs.mean()\n",
    "print(m,m1)\n",
    "\n",
    "probs_log = np.log(probs)\n",
    "loss = -1 * np.sum(gt_bool * probs_log)\n",
    "print(loss)\n",
    "#2.5416666666666665 2.5416666666666665\n",
    "#-0.6931471805599453"
   ]
  },
  {
   "cell_type": "code",
   "execution_count": 36,
   "metadata": {},
   "outputs": [
    {
     "ename": "AttributeError",
     "evalue": "module 'numpy' has no attribute 'len'",
     "output_type": "error",
     "traceback": [
      "\u001b[0;31m---------------------------------------------------------------------------\u001b[0m",
      "\u001b[0;31mAttributeError\u001b[0m                            Traceback (most recent call last)",
      "\u001b[0;32m<ipython-input-36-f8b5986e6671>\u001b[0m in \u001b[0;36m<module>\u001b[0;34m\u001b[0m\n\u001b[0;32m----> 1\u001b[0;31m \u001b[0mnp\u001b[0m\u001b[0;34m.\u001b[0m\u001b[0mlen\u001b[0m\u001b[0;34m(\u001b[0m\u001b[0;36m2\u001b[0m\u001b[0;34m)\u001b[0m\u001b[0;34m\u001b[0m\u001b[0;34m\u001b[0m\u001b[0m\n\u001b[0m",
      "\u001b[0;31mAttributeError\u001b[0m: module 'numpy' has no attribute 'len'"
     ]
    }
   ],
   "source": [
    "np.len(2)"
   ]
  },
  {
   "cell_type": "code",
   "execution_count": 7,
   "metadata": {},
   "outputs": [
    {
     "name": "stdout",
     "output_type": "stream",
     "text": "2\n[[3.]\n [1.]] (2, 1)\n[[-2.  0.]\n [ 0. -1.]]\n[[0.13533528 1.        ]\n [1.         0.36787944]]\n[1.13533528 1.36787944]\n"
    },
    {
     "data": {
      "text/plain": "array([1., 1.])"
     },
     "execution_count": 7,
     "metadata": {},
     "output_type": "execute_result"
    }
   ],
   "source": [
    "p = np.random.randint(-5,5, size=(2,2)).astype(np.float)\n",
    "\n",
    "\n",
    "print (len(p.shape))\n",
    "m = np.max(p, axis=1)\n",
    "m = m[:,None]\n",
    "print (m , m.shape)\n",
    "p -= m\n",
    "print (p)\n",
    "e = np.exp(p)\n",
    "print (e)\n",
    "znam = np.sum(e, axis=1)\n",
    "print(znam)\n",
    "znam = znam[:,None]\n",
    "probs = e / znam\n",
    "\n",
    "np.sum(probs, axis=1)\n",
    "\n",
    "\n",
    "\n"
   ]
  },
  {
   "cell_type": "code",
   "execution_count": 67,
   "metadata": {},
   "outputs": [
    {
     "data": {
      "text/plain": "6.0"
     },
     "execution_count": 67,
     "metadata": {},
     "output_type": "execute_result"
    }
   ],
   "source": [
    "def array_2d_sum(x):\n",
    "    assert x.shape == (2,2)\n",
    "    return np.sum(x), np.ones_like(x)\n",
    "\n",
    "\n",
    "\n",
    "l1 , l2 = array_2d_sum(np.array([[3.0, 2.0], [1.0, 0.0]]))\n",
    "l1"
   ]
  },
  {
   "cell_type": "code",
   "execution_count": 59,
   "metadata": {},
   "outputs": [
    {
     "name": "stdout",
     "output_type": "stream",
     "text": "0 (0,) 0\n1 (1,) 1\n2 (2,) 2\n3 (3,) 3\n4 (4,) 4\n5 (5,) 5\n6 (6,) 6\n7 (7,) 7\n8 (8,) 8\n9 (9,) 9\n10 (10,) 10\n11 (11,) 11\n"
    }
   ],
   "source": [
    "arr = np.arange(12)\n",
    "it = np.nditer(arr, flags=['multi_index'],op_flags=['readwrite'])\n",
    "while not it.finished:\n",
    "    ix = it.multi_index\n",
    "    print(it[0], ix,arr[ix])\n",
    "    it.iternext()"
   ]
  },
  {
   "cell_type": "code",
   "execution_count": 2,
   "metadata": {},
   "outputs": [],
   "source": [
    "num_test = 6\n",
    "num_train = 10\n",
    "dists = np.zeros((num_test, num_train), np.float32)"
   ]
  },
  {
   "cell_type": "code",
   "execution_count": 29,
   "metadata": {},
   "outputs": [
    {
     "data": {
      "text/plain": "array([[ 0,  0,  0,  0,  0,  0,  0,  0,  0,  0,  0],\n       [10, 10, 10, 10, 10, 10, 10, 10, 10, 10, 10],\n       [20, 20, 20, 20, 20, 20, 20, 20, 20, 20, 20],\n       [30, 30, 30, 30, 30, 30, 30, 30, 30, 30, 30],\n       [40, 40, 40, 40, 40, 40, 40, 40, 40, 40, 40],\n       [50, 50, 50, 50, 50, 50, 50, 50, 50, 50, 50],\n       [60, 60, 60, 60, 60, 60, 60, 60, 60, 60, 60],\n       [70, 70, 70, 70, 70, 70, 70, 70, 70, 70, 70],\n       [80, 80, 80, 80, 80, 80, 80, 80, 80, 80, 80],\n       [90, 90, 90, 90, 90, 90, 90, 90, 90, 90, 90]])"
     },
     "execution_count": 29,
     "metadata": {},
     "output_type": "execute_result"
    }
   ],
   "source": [
    "train_x = np.array([[0, 0, 0, 0, 0, 0, 0, 0, 0, 0, 0],\n",
    "                    [10,10,10,10,10,10,10,10,10,10,10],\n",
    "                    [20,20,20,20,20,20,20,20,20,20,20],\n",
    "                    [30,30,30,30,30,30,30,30,30,30,30],\n",
    "                    [40,40,40,40,40,40,40,40,40,40,40],\n",
    "                    [50,50,50,50,50,50,50,50,50,50,50],\n",
    "                    [60,60,60,60,60,60,60,60,60,60,60],\n",
    "                    [70,70,70,70,70,70,70,70,70,70,70],\n",
    "                    [80,80,80,80,80,80,80,80,80,80,80],\n",
    "                    [90,90,90,90,90,90,90,90,90,90,90]])\n",
    "c = train_x.copy()\n",
    "c[0,0] = 15\n",
    "train_x"
   ]
  },
  {
   "cell_type": "code",
   "execution_count": 3,
   "metadata": {},
   "outputs": [
    {
     "data": {
      "text/plain": "(6, 11)"
     },
     "execution_count": 3,
     "metadata": {},
     "output_type": "execute_result"
    }
   ],
   "source": [
    "test_x = np.array( [[0,1,2,3,4,5,6,7,8,9,10],\n",
    "                    [1,1,2,3,4,5,6,7,8,9,10],\n",
    "                    [2,1,2,3,4,5,6,7,8,9,10],\n",
    "                    [3,1,2,3,4,5,6,7,8,9,10],\n",
    "                    [4,1,2,3,4,5,6,7,8,9,10],\n",
    "                    [5,1,2,3,4,5,6,7,8,9,10]])\n",
    "test_x.shape"
   ]
  },
  {
   "cell_type": "code",
   "execution_count": 141,
   "metadata": {},
   "outputs": [
    {
     "data": {
      "text/plain": "array([[ 0,  0,  0,  0,  0,  0,  0,  0,  0,  0,  0],\n       [10, 10, 10, 10, 10, 10, 10, 10, 10, 10, 10],\n       [40, 40, 40, 40, 40, 40, 40, 40, 40, 40, 40],\n       [50, 50, 50, 50, 50, 50, 50, 50, 50, 50, 50],\n       [60, 60, 60, 60, 60, 60, 60, 60, 60, 60, 60],\n       [70, 70, 70, 70, 70, 70, 70, 70, 70, 70, 70],\n       [80, 80, 80, 80, 80, 80, 80, 80, 80, 80, 80],\n       [90, 90, 90, 90, 90, 90, 90, 90, 90, 90, 90]])"
     },
     "execution_count": 141,
     "metadata": {},
     "output_type": "execute_result"
    }
   ],
   "source": [
    "f = np.arange(0,10)\n",
    "ev = np.array_split(f,5)\n",
    "train_x[ev[1]]\n",
    "np.delete(train_x,ev[1],axis=0)"
   ]
  },
  {
   "cell_type": "code",
   "execution_count": null,
   "metadata": {},
   "outputs": [],
   "source": []
  },
  {
   "cell_type": "code",
   "execution_count": 53,
   "metadata": {},
   "outputs": [
    {
     "data": {
      "text/plain": "55.0"
     },
     "execution_count": 53,
     "metadata": {},
     "output_type": "execute_result"
    }
   ],
   "source": [
    "#v = np.abs(test_x[0] - train_x)\n",
    "d = np.linalg.norm(test_x[0] - train_x[0],ord=1)\n",
    "d"
   ]
  },
  {
   "cell_type": "code",
   "execution_count": 54,
   "metadata": {},
   "outputs": [
    {
     "data": {
      "text/plain": "array([[55., 55., 55., 55., 55., 55., 55., 55., 55., 55.],\n       [ 0.,  0.,  0.,  0.,  0.,  0.,  0.,  0.,  0.,  0.],\n       [ 0.,  0.,  0.,  0.,  0.,  0.,  0.,  0.,  0.,  0.],\n       [ 0.,  0.,  0.,  0.,  0.,  0.,  0.,  0.,  0.,  0.],\n       [ 0.,  0.,  0.,  0.,  0.,  0.,  0.,  0.,  0.,  0.],\n       [ 0.,  0.,  0.,  0.,  0.,  0.,  0.,  0.,  0.,  0.]], dtype=float32)"
     },
     "execution_count": 54,
     "metadata": {},
     "output_type": "execute_result"
    }
   ],
   "source": [
    "dists[0] = d\n",
    "dists"
   ]
  },
  {
   "cell_type": "code",
   "execution_count": null,
   "metadata": {},
   "outputs": [],
   "source": []
  },
  {
   "cell_type": "code",
   "execution_count": 55,
   "metadata": {},
   "outputs": [],
   "source": [
    "vect = np.array([\n",
    "    [0,1,2,6],\n",
    "    [3,4,5,7],\n",
    "])\n",
    "\n",
    "vect1 = np.array([\n",
    "    [10,20,30,40],\n",
    "    [40,50,60,70],\n",
    "    [70,80,90,0]\n",
    "])"
   ]
  },
  {
   "cell_type": "code",
   "execution_count": 56,
   "metadata": {},
   "outputs": [],
   "source": [
    "vect3 = vect[:,np.newaxis,:]"
   ]
  },
  {
   "cell_type": "code",
   "execution_count": 57,
   "metadata": {},
   "outputs": [],
   "source": [
    "A = np.sum(np.abs(vect3 - vect1),axis=2)\n"
   ]
  },
  {
   "cell_type": "code",
   "execution_count": 58,
   "metadata": {},
   "outputs": [
    {
     "data": {
      "text/plain": "array([[ 91, 211, 243],\n       [ 81, 201, 235]])"
     },
     "execution_count": 58,
     "metadata": {},
     "output_type": "execute_result"
    }
   ],
   "source": [
    "A"
   ]
  },
  {
   "cell_type": "code",
   "execution_count": 59,
   "metadata": {},
   "outputs": [
    {
     "data": {
      "text/plain": "(2, 3)"
     },
     "execution_count": 59,
     "metadata": {},
     "output_type": "execute_result"
    }
   ],
   "source": [
    "A.shape"
   ]
  },
  {
   "cell_type": "code",
   "execution_count": 60,
   "metadata": {},
   "outputs": [
    {
     "name": "stdout",
     "output_type": "stream",
     "text": "1\n"
    }
   ],
   "source": [
    "for i in range (1,2):\n",
    "    print(1)"
   ]
  },
  {
   "cell_type": "code",
   "execution_count": 74,
   "metadata": {},
   "outputs": [
    {
     "name": "stdout",
     "output_type": "stream",
     "text": "1\n"
    },
    {
     "data": {
      "text/plain": "array([[ 0.,  0.],\n       [ 0., 59.]])"
     },
     "execution_count": 74,
     "metadata": {},
     "output_type": "execute_result"
    }
   ],
   "source": [
    "score = np.zeros((2,2),np.float64)\n",
    "for i in range (0,1):\n",
    "    score.fill(0)\n",
    "    score[1][1] += 59\n",
    "    print(i)\n",
    "score"
   ]
  },
  {
   "cell_type": "code",
   "execution_count": 73,
   "metadata": {},
   "outputs": [
    {
     "data": {
      "text/plain": "array([[ 0.,  0.],\n       [ 0., 59.]])"
     },
     "execution_count": 73,
     "metadata": {},
     "output_type": "execute_result"
    }
   ],
   "source": [
    "score"
   ]
  },
  {
   "cell_type": "code",
   "execution_count": 77,
   "metadata": {},
   "outputs": [
    {
     "data": {
      "text/plain": "(121,)"
     },
     "execution_count": 77,
     "metadata": {},
     "output_type": "execute_result"
    }
   ],
   "source": [
    "s = np.arange(121)\n",
    "s.shape"
   ]
  },
  {
   "cell_type": "code",
   "execution_count": 83,
   "metadata": {},
   "outputs": [
    {
     "data": {
      "text/plain": "array([array([ 0,  1,  2,  3,  4,  5,  6,  7,  8,  9, 10, 11, 12, 13, 14, 15, 16,\n       17, 18, 19, 20, 21, 22, 23, 24]),\n       array([25, 26, 27, 28, 29, 30, 31, 32, 33, 34, 35, 36, 37, 38, 39, 40, 41,\n       42, 43, 44, 45, 46, 47, 48]),\n       array([49, 50, 51, 52, 53, 54, 55, 56, 57, 58, 59, 60, 61, 62, 63, 64, 65,\n       66, 67, 68, 69, 70, 71, 72]),\n       array([73, 74, 75, 76, 77, 78, 79, 80, 81, 82, 83, 84, 85, 86, 87, 88, 89,\n       90, 91, 92, 93, 94, 95, 96]),\n       array([ 97,  98,  99, 100, 101, 102, 103, 104, 105, 106, 107, 108, 109,\n       110, 111, 112, 113, 114, 115, 116, 117, 118, 119, 120])],\n      dtype=object)"
     },
     "execution_count": 83,
     "metadata": {},
     "output_type": "execute_result"
    }
   ],
   "source": [
    "for i in range(0,5):\n",
    "    "
   ]
  }
 ]
}