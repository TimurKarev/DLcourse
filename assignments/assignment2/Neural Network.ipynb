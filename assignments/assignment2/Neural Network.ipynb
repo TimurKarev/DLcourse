{
 "cells": [
  {
   "cell_type": "markdown",
   "metadata": {},
   "source": [
    "# Задание 2.1 - Нейронные сети\n",
    "\n",
    "В этом задании вы реализуете и натренируете настоящую нейроную сеть своими руками!\n",
    "\n",
    "В некотором смысле это будет расширением прошлого задания - нам нужно просто составить несколько линейных классификаторов вместе!\n",
    "\n",
    "<img src=\"https://i.redd.it/n9fgba8b0qr01.png\" alt=\"Stack_more_layers\" width=\"400px\"/>"
   ]
  },
  {
   "cell_type": "code",
   "execution_count": 1,
   "metadata": {},
   "outputs": [],
   "source": [
    "import numpy as np\n",
    "import matplotlib.pyplot as plt\n",
    "\n",
    "%matplotlib inline\n",
    "\n",
    "%load_ext autoreload\n",
    "%autoreload 2"
   ]
  },
  {
   "cell_type": "code",
   "execution_count": 2,
   "metadata": {},
   "outputs": [],
   "source": [
    "from dataset import load_svhn, random_split_train_val\n",
    "from gradient_check import check_layer_gradient, check_layer_param_gradient, check_model_gradient\n",
    "from layers import FullyConnectedLayer, ReLULayer\n",
    "from model import TwoLayerNet\n",
    "from trainer import Trainer, Dataset\n",
    "from optim import SGD, MomentumSGD\n",
    "from metrics import multiclass_accuracy"
   ]
  },
  {
   "cell_type": "markdown",
   "metadata": {},
   "source": [
    "# Загружаем данные\n",
    "\n",
    "И разделяем их на training и validation."
   ]
  },
  {
   "cell_type": "code",
   "execution_count": 3,
   "metadata": {},
   "outputs": [],
   "source": [
    "def prepare_for_neural_network(train_X, test_X):\n",
    "    train_flat = train_X.reshape(train_X.shape[0], -1).astype(np.float) / 255.0\n",
    "    test_flat = test_X.reshape(test_X.shape[0], -1).astype(np.float) / 255.0\n",
    "    \n",
    "    # Subtract mean\n",
    "    mean_image = np.mean(train_flat, axis = 0)\n",
    "    train_flat -= mean_image\n",
    "    test_flat -= mean_image\n",
    "    \n",
    "    return train_flat, test_flat\n",
    "    \n",
    "train_X, train_y, test_X, test_y = load_svhn(\"data\", max_train=10000, max_test=1000)    \n",
    "train_X, test_X = prepare_for_neural_network(train_X, test_X)\n",
    "# Split train into train and val\n",
    "train_X, train_y, val_X, val_y = random_split_train_val(train_X, train_y, num_val = 1000)"
   ]
  },
  {
   "cell_type": "markdown",
   "metadata": {},
   "source": [
    "# Как всегда, начинаем с кирпичиков\n",
    "\n",
    "Мы будем реализовывать необходимые нам слои по очереди. Каждый слой должен реализовать:\n",
    "- прямой проход (forward pass), который генерирует выход слоя по входу и запоминает необходимые данные\n",
    "- обратный проход (backward pass), который получает градиент по выходу слоя и вычисляет градиент по входу и по параметрам\n",
    "\n",
    "Начнем с ReLU, у которого параметров нет."
   ]
  },
  {
   "cell_type": "code",
   "execution_count": 4,
   "metadata": {},
   "outputs": [
    {
     "name": "stdout",
     "output_type": "stream",
     "text": "Gradient check passed!\n"
    }
   ],
   "source": [
    "# TODO: Implement ReLULayer layer in layers.py\n",
    "# Note: you'll need to copy implementation of the gradient_check function from the previous assignment\n",
    "\n",
    "X = np.array([[1,-2,3],\n",
    "              [-1, 2, 0.1]\n",
    "              ])\n",
    "\n",
    "assert check_layer_gradient(ReLULayer(), X)"
   ]
  },
  {
   "cell_type": "code",
   "execution_count": null,
   "metadata": {},
   "outputs": [],
   "source": []
  },
  {
   "cell_type": "markdown",
   "metadata": {},
   "source": [
    "А теперь реализуем полносвязный слой (fully connected layer), у которого будет два массива параметров: W (weights) и B (bias).\n",
    "\n",
    "Все параметры наши слои будут использовать для параметров специальный класс `Param`, в котором будут храниться значения параметров и градиенты этих параметров, вычисляемые во время обратного прохода.\n",
    "\n",
    "Это даст возможность аккумулировать (суммировать) градиенты из разных частей функции потерь, например, из cross-entropy loss и regularization loss."
   ]
  },
  {
   "cell_type": "code",
   "execution_count": 5,
   "metadata": {},
   "outputs": [
    {
     "name": "stdout",
     "output_type": "stream",
     "text": "Gradient check passed!\nGradient check passed!\nGradient check passed!\n"
    }
   ],
   "source": [
    "# TODO: Implement FullyConnected layer forward and backward methods\n",
    "assert check_layer_gradient(FullyConnectedLayer(3, 4), X)\n",
    "# TODO: Implement storing gradients for W and B\n",
    "assert check_layer_param_gradient(FullyConnectedLayer(3, 4), X, 'W')\n",
    "assert check_layer_param_gradient(FullyConnectedLayer(3, 4), X, 'B')"
   ]
  },
  {
   "cell_type": "markdown",
   "metadata": {},
   "source": [
    "## Создаем нейронную сеть\n",
    "\n",
    "Теперь мы реализуем простейшую нейронную сеть с двумя полносвязным слоями и нелинейностью ReLU. Реализуйте функцию `compute_loss_and_gradients`, она должна запустить прямой и обратный проход через оба слоя для вычисления градиентов.\n",
    "\n",
    "Не забудьте реализовать очистку градиентов в начале функции."
   ]
  },
  {
   "cell_type": "code",
   "execution_count": 6,
   "metadata": {},
   "outputs": [
    {
     "name": "stdout",
     "output_type": "stream",
     "text": "Checking gradient for iW\nGradient check passed!\nChecking gradient for iB\nGradient check passed!\nChecking gradient for hW\nGradient check passed!\nChecking gradient for hB\nGradient check passed!\n"
    },
    {
     "data": {
      "text/plain": "True"
     },
     "execution_count": 6,
     "metadata": {},
     "output_type": "execute_result"
    }
   ],
   "source": [
    "# TODO: In model.py, implement compute_loss_and_gradients function\n",
    "model = TwoLayerNet(n_input = train_X.shape[1], n_output = 10, hidden_layer_size = 3, reg = 0)\n",
    "loss = model.compute_loss_and_gradients(train_X[:2], train_y[:2])\n",
    "loss\n",
    "# TODO Now implement backward pass and aggregate all of the params\n",
    "check_model_gradient(model, train_X[:2], train_y[:2])"
   ]
  },
  {
   "cell_type": "markdown",
   "metadata": {},
   "source": [
    "Теперь добавьте к модели регуляризацию - она должна прибавляться к loss и делать свой вклад в градиенты."
   ]
  },
  {
   "cell_type": "code",
   "execution_count": 7,
   "metadata": {},
   "outputs": [
    {
     "name": "stdout",
     "output_type": "stream",
     "text": "Checking gradient for iW\nGradient check passed!\nChecking gradient for iB\nGradient check passed!\nChecking gradient for hW\nGradient check passed!\nChecking gradient for hB\nGradient check passed!\n"
    },
    {
     "data": {
      "text/plain": "True"
     },
     "execution_count": 7,
     "metadata": {},
     "output_type": "execute_result"
    }
   ],
   "source": [
    "# TODO Now implement l2 regularization in the forward and backward pass\n",
    "model_with_reg = TwoLayerNet(n_input = train_X.shape[1], n_output = 10, hidden_layer_size = 3, reg = 1e1)\n",
    "loss_with_reg = model_with_reg.compute_loss_and_gradients(train_X[:2], train_y[:2])\n",
    "assert loss_with_reg > loss and not np.isclose(loss_with_reg, loss), \\\n",
    "    \"Loss with regularization (%2.4f) should be higher than without it (%2.4f)!\" % (loss, loss_with_reg)\n",
    "\n",
    "check_model_gradient(model_with_reg, train_X[:2], train_y[:2])"
   ]
  },
  {
   "cell_type": "markdown",
   "metadata": {},
   "source": [
    "Также реализуем функцию предсказания (вычисления значения) модели на новых данных.\n",
    "\n",
    "Какое значение точности мы ожидаем увидеть до начала тренировки?"
   ]
  },
  {
   "cell_type": "code",
   "execution_count": 8,
   "metadata": {},
   "outputs": [
    {
     "name": "stdout",
     "output_type": "stream",
     "text": "(30, 10)\n(30,) (30,)\n"
    },
    {
     "data": {
      "text/plain": "0.1"
     },
     "execution_count": 8,
     "metadata": {},
     "output_type": "execute_result"
    }
   ],
   "source": [
    "# Finally, implement predict function!\n",
    "\n",
    "# TODO: Implement predict function\n",
    "# What would be the value we expect?\n",
    "multiclass_accuracy(model_with_reg.predict(train_X[:30]), train_y[:30]) "
   ]
  },
  {
   "cell_type": "markdown",
   "metadata": {},
   "source": [
    "# Допишем код для процесса тренировки\n",
    "\n",
    "Если все реализовано корректно, значение функции ошибки должно уменьшаться с каждой эпохой, пусть и медленно. Не беспокойтесь пока про validation accuracy."
   ]
  },
  {
   "cell_type": "code",
   "execution_count": 9,
   "metadata": {},
   "outputs": [
    {
     "name": "stdout",
     "output_type": "stream",
     "text": "0)\n(20, 10)\n(20, 10)\n(20, 10)\n(20, 10)\n(20, 10)\n(20, 10)\n(20, 10)\n(20, 10)\n(20, 10)\n(20, 10)\n(20, 10)\n(20, 10)\n(20, 10)\n(20, 10)\n(20, 10)\n(20, 10)\n(20, 10)\n(20, 10)\n(20, 10)\n(20, 10)\n(20, 10)\n(20, 10)\n(20, 10)\n(20, 10)\n(20, 10)\n(20, 10)\n(20, 10)\n(20, 10)\n(20, 10)\n(20, 10)\n(20, 10)\n(20, 10)\n(20, 10)\n(20, 10)\n(20, 10)\n(20, 10)\n(20, 10)\n(20, 10)\n(20, 10)\n(20, 10)\n(20, 10)\n(20, 10)\n(20, 10)\n(20, 10)\n(20, 10)\n(20, 10)\n(20, 10)\n(20, 10)\n(20, 10)\n(20, 10)\n(20, 10)\n(20, 10)\n(20, 10)\n(20, 10)\n(20, 10)\n(20, 10)\n(20, 10)\n(20, 10)\n(20, 10)\n(20, 10)\n(20, 10)\n(20, 10)\n(20, 10)\n(20, 10)\n(20, 10)\n(20, 10)\n(20, 10)\n(20, 10)\n(20, 10)\n(20, 10)\n(20, 10)\n(20, 10)\n(20, 10)\n(20, 10)\n(20, 10)\n(20, 10)\n(20, 10)\n(20, 10)\n(20, 10)\n(20, 10)\n(20, 10)\n(20, 10)\n(20, 10)\n(20, 10)\n(20, 10)\n(20, 10)\n(20, 10)\n(20, 10)\n(20, 10)\n(20, 10)\n(20, 10)\n(20, 10)\n(20, 10)\n(20, 10)\n(20, 10)\n(20, 10)\n(20, 10)\n(20, 10)\n(20, 10)\n(20, 10)\n(20, 10)\n(20, 10)\n(20, 10)\n(20, 10)\n(20, 10)\n(20, 10)\n(20, 10)\n(20, 10)\n(20, 10)\n(20, 10)\n(20, 10)\n(20, 10)\n(20, 10)\n(20, 10)\n(20, 10)\n(20, 10)\n(20, 10)\n(20, 10)\n(9000,) (9000,)\n(20, 10)\n(20, 10)\n(20, 10)\n(20, 10)\n(20, 10)\n(20, 10)\n(20, 10)\n(20, 10)\n(20, 10)\n(20, 10)\n(20, 10)\n(20, 10)\n(20, 10)\n(20, 10)\n(20, 10)\n(20, 10)\n(20, 10)\n(20, 10)\n(20, 10)\n(20, 10)\n(20, 10)\n(20, 10)\n(20, 10)\n(20, 10)\n(20, 10)\n(20, 10)\n(20, 10)\n(20, 10)\n(20, 10)\n(20, 10)\n(20, 10)\n(20, 10)\n(20, 10)\n(20, 10)\n(20, 10)\n(20, 10)\n(20, 10)\n(20, 10)\n(20, 10)\n(20, 10)\n(20, 10)\n(20, 10)\n(20, 10)\n(20, 10)\n(20, 10)\n(20, 10)\n(20, 10)\n(20, 10)\n(20, 10)\n(20, 10)\n(1000,) (1000,)\nLoss: 2.228341, Train accuracy: 0.196667, val accuracy: 0.206000\n(20, 10)\n(20, 10)\n(20, 10)\n(20, 10)\n(20, 10)\n(20, 10)\n(20, 10)\n(20, 10)\n(20, 10)\n(20, 10)\n(20, 10)\n(20, 10)\n(20, 10)\n(20, 10)\n(20, 10)\n(20, 10)\n(20, 10)\n(20, 10)\n(20, 10)\n(20, 10)\n(20, 10)\n(20, 10)\n(20, 10)\n(20, 10)\n(20, 10)\n(20, 10)\n(20, 10)\n(20, 10)\n(20, 10)\n(20, 10)\n(20, 10)\n(20, 10)\n(20, 10)\n(20, 10)\n(20, 10)\n(20, 10)\n(20, 10)\n(20, 10)\n(20, 10)\n(20, 10)\n(20, 10)\n(20, 10)\n(20, 10)\n(20, 10)\n(20, 10)\n(20, 10)\n(20, 10)\n(20, 10)\n(20, 10)\n(20, 10)\n(20, 10)\n(20, 10)\n(20, 10)\n(20, 10)\n(20, 10)\n(20, 10)\n(20, 10)\n(20, 10)\n(20, 10)\n(20, 10)\n(20, 10)\n(20, 10)\n(20, 10)\n(20, 10)\n(20, 10)\n(20, 10)\n(20, 10)\n(20, 10)\n(20, 10)\n(20, 10)\n(20, 10)\n(20, 10)\n(20, 10)\n(20, 10)\n(20, 10)\n(20, 10)\n(20, 10)\n(20, 10)\n(20, 10)\n(20, 10)\n(20, 10)\n(20, 10)\n(20, 10)\n(20, 10)\n(20, 10)\n(20, 10)\n(20, 10)\n(20, 10)\n(20, 10)\n(20, 10)\n(20, 10)\n(20, 10)\n(20, 10)\n(20, 10)\n(20, 10)\n(20, 10)\n(20, 10)\n(20, 10)\n(20, 10)\n(20, 10)\n(20, 10)\n(20, 10)\n(20, 10)\n(20, 10)\n(20, 10)\n(20, 10)\n(20, 10)\n(20, 10)\n(20, 10)\n(20, 10)\n(20, 10)\n(20, 10)\n(20, 10)\n(20, 10)\n(20, 10)\n(20, 10)\n(20, 10)\n(20, 10)\n(20, 10)\n(20, 10)\n(20, 10)\n(20, 10)\n(20, 10)\n(20, 10)\n(20, 10)\n(20, 10)\n(20, 10)\n(20, 10)\n(20, 10)\n(20, 10)\n(20, 10)\n(20, 10)\n(20, 10)\n(20, 10)\n(20, 10)\n(20, 10)\n(20, 10)\n(20, 10)\n(20, 10)\n(20, 10)\n(20, 10)\n(20, 10)\n(20, 10)\n(20, 10)\n(20, 10)\n(20, 10)\n(20, 10)\n(20, 10)\n(20, 10)\n(20, 10)\n(20, 10)\n(20, 10)\n(20, 10)\n(20, 10)\n(20, 10)\n(20, 10)\n(20, 10)\n(20, 10)\n(20, 10)\n(20, 10)\n(20, 10)\n(20, 10)\n(20, 10)\n(20, 10)\n(20, 10)\n(20, 10)\n(20, 10)\n(20, 10)\n(20, 10)\n(20, 10)\n(20, 10)\n(20, 10)\n(20, 10)\n(20, 10)\n(20, 10)\n(20, 10)\n(20, 10)\n(20, 10)\n(20, 10)\n(20, 10)\n(20, 10)\n(20, 10)\n(20, 10)\n(20, 10)\n(20, 10)\n(20, 10)\n(20, 10)\n(20, 10)\n(20, 10)\n(20, 10)\n(20, 10)\n(20, 10)\n(20, 10)\n(20, 10)\n(20, 10)\n(20, 10)\n(20, 10)\n(20, 10)\n(20, 10)\n(20, 10)\n(20, 10)\n(20, 10)\n(20, 10)\n(20, 10)\n(20, 10)\n(20, 10)\n(20, 10)\n(20, 10)\n(20, 10)\n(20, 10)\n(20, 10)\n(20, 10)\n(20, 10)\n(20, 10)\n(20, 10)\n(20, 10)\n(20, 10)\n(20, 10)\n(20, 10)\n(20, 10)\n(20, 10)\n(20, 10)\n(20, 10)\n(20, 10)\n(20, 10)\n(20, 10)\n(20, 10)\n(20, 10)\n(20, 10)\n(20, 10)\n(20, 10)\n(20, 10)\n(20, 10)\n(20, 10)\n(20, 10)\n(20, 10)\n(20, 10)\n(20, 10)\n(20, 10)\n(20, 10)\n(20, 10)\n(20, 10)\n(20, 10)\n(20, 10)\n(20, 10)\n(20, 10)\n(20, 10)\n(20, 10)\n(20, 10)\n(20, 10)\n(20, 10)\n(20, 10)\n(20, 10)\n(20, 10)\n(20, 10)\n(20, 10)\n(20, 10)\n(20, 10)\n(20, 10)\n(20, 10)\n(20, 10)\n(20, 10)\n(20, 10)\n(20, 10)\n(20, 10)\n(20, 10)\n(20, 10)\n(20, 10)\n(20, 10)\n(20, 10)\n(20, 10)\n(20, 10)\n(20, 10)\n(20, 10)\n(20, 10)\n(20, 10)\n(20, 10)\n(20, 10)\n(20, 10)\n(20, 10)\n(20, 10)\n(20, 10)\n(20, 10)\n(20, 10)\n(20, 10)\n(20, 10)\n(20, 10)\n(20, 10)\n(20, 10)\n(20, 10)\n(20, 10)\n(20, 10)\n(20, 10)\n(20, 10)\n(20, 10)\n(20, 10)\n(20, 10)\n(20, 10)\n(20, 10)\n(20, 10)\n(20, 10)\n(20, 10)\n(20, 10)\n(20, 10)\n(20, 10)\n(20, 10)\n(20, 10)\n(20, 10)\n(20, 10)\n(20, 10)\n(20, 10)\n(20, 10)\n(20, 10)\n(20, 10)\n(20, 10)\n(20, 10)\n(20, 10)\n(20, 10)\n(20, 10)\n(20, 10)\n(20, 10)\n(20, 10)\n(20, 10)\n(20, 10)\n(20, 10)\n(20, 10)\n(20, 10)\n(20, 10)\n(20, 10)\n(20, 10)\n(20, 10)\n(20, 10)\n(20, 10)\n(20, 10)\n(20, 10)\n(20, 10)\n(20, 10)\n(20, 10)\n(20, 10)\n(20, 10)\n(20, 10)\n(20, 10)\n(20, 10)\n(20, 10)\n(20, 10)\n(20, 10)\n(20, 10)\n(20, 10)\n(20, 10)\n(20, 10)\n(20, 10)\n(20, 10)\n(20, 10)\n(20, 10)\n(20, 10)\n(20, 10)\n(20, 10)\n(20, 10)\n(20, 10)\n(20, 10)\n(20, 10)\n(20, 10)\n(20, 10)\n(20, 10)\n(20, 10)\n(20, 10)\n(20, 10)\n(20, 10)\n(20, 10)\n(20, 10)\n(20, 10)\n(20, 10)\n(20, 10)\n(20, 10)\n(20, 10)\n(20, 10)\n(20, 10)\n(20, 10)\n(20, 10)\n(20, 10)\n(20, 10)\n(20, 10)\n(20, 10)\n(20, 10)\n(20, 10)\n(20, 10)\n(20, 10)\n(20, 10)\n(20, 10)\n(20, 10)\n(20, 10)\n(20, 10)\n(20, 10)\n(20, 10)\n(20, 10)\n(20, 10)\n(20, 10)\n(20, 10)\n(20, 10)\n(20, 10)\n(20, 10)\n(20, 10)\n(20, 10)\n(20, 10)\n(20, 10)\n(20, 10)\n(20, 10)\n(20, 10)\n(20, 10)\n(20, 10)\n(20, 10)\n(20, 10)\n(20, 10)\n(20, 10)\n(20, 10)\n(20, 10)\n(20, 10)\n(20, 10)\n(20, 10)\n(20, 10)\n(20, 10)\n(20, 10)\n(20, 10)\n(20, 10)\n(20, 10)\n(20, 10)\n(20, 10)\n(20, 10)\n(20, 10)\n(20, 10)\n(20, 10)\n(20, 10)\n(20, 10)\n(20, 10)\n(20, 10)\n(20, 10)\n(20, 10)\n(20, 10)\n(20, 10)\n(20, 10)\n(20, 10)\n(20, 10)\n(20, 10)\n(20, 10)\n(20, 10)\n(20, 10)\n(20, 10)\n(20, 10)\n(20, 10)\n(20, 10)\n(9000,) (9000,)\n(20, 10)\n(20, 10)\n(20, 10)\n(20, 10)\n(20, 10)\n(20, 10)\n(20, 10)\n(20, 10)\n(20, 10)\n(20, 10)\n(20, 10)\n(20, 10)\n(20, 10)\n(20, 10)\n(20, 10)\n(20, 10)\n(20, 10)\n(20, 10)\n(20, 10)\n(20, 10)\n(20, 10)\n(20, 10)\n(20, 10)\n(20, 10)\n(20, 10)\n(20, 10)\n(20, 10)\n(20, 10)\n(20, 10)\n(20, 10)\n(20, 10)\n(20, 10)\n(20, 10)\n(20, 10)\n(20, 10)\n(20, 10)\n(20, 10)\n(20, 10)\n(20, 10)\n(20, 10)\n(20, 10)\n(20, 10)\n(20, 10)\n(20, 10)\n(20, 10)\n(20, 10)\n(20, 10)\n(20, 10)\n(20, 10)\n(20, 10)\n(1000,) (1000,)\nLoss: 2.228206, Train accuracy: 0.196667, val accuracy: 0.206000\n(20, 10)\n(20, 10)\n(20, 10)\n(20, 10)\n(20, 10)\n(20, 10)\n(20, 10)\n(20, 10)\n(20, 10)\n(20, 10)\n(20, 10)\n(20, 10)\n(20, 10)\n(20, 10)\n(20, 10)\n(20, 10)\n(20, 10)\n(20, 10)\n(20, 10)\n(20, 10)\n(20, 10)\n(20, 10)\n(20, 10)\n(20, 10)\n(20, 10)\n(20, 10)\n(20, 10)\n(20, 10)\n(20, 10)\n(20, 10)\n(20, 10)\n(20, 10)\n(20, 10)\n(20, 10)\n(20, 10)\n(20, 10)\n(20, 10)\n(20, 10)\n(20, 10)\n(20, 10)\n(20, 10)\n(20, 10)\n(20, 10)\n(20, 10)\n(20, 10)\n(20, 10)\n(20, 10)\n(20, 10)\n(20, 10)\n(20, 10)\n(20, 10)\n(20, 10)\n(20, 10)\n(20, 10)\n(20, 10)\n(20, 10)\n(20, 10)\n(20, 10)\n(20, 10)\n(20, 10)\n(20, 10)\n(20, 10)\n(20, 10)\n(20, 10)\n(20, 10)\n(20, 10)\n(20, 10)\n(20, 10)\n(20, 10)\n(20, 10)\n(20, 10)\n(20, 10)\n(20, 10)\n(20, 10)\n(20, 10)\n(20, 10)\n(20, 10)\n(20, 10)\n(20, 10)\n(20, 10)\n(20, 10)\n(20, 10)\n(20, 10)\n(20, 10)\n(20, 10)\n(20, 10)\n(20, 10)\n(20, 10)\n(20, 10)\n(20, 10)\n(20, 10)\n(20, 10)\n(20, 10)\n(20, 10)\n(20, 10)\n(20, 10)\n(20, 10)\n(20, 10)\n(20, 10)\n(20, 10)\n(20, 10)\n(20, 10)\n(20, 10)\n(20, 10)\n(20, 10)\n(20, 10)\n(20, 10)\n(20, 10)\n(20, 10)\n(20, 10)\n(20, 10)\n(20, 10)\n(20, 10)\n(20, 10)\n(20, 10)\n(20, 10)\n(20, 10)\n(20, 10)\n(20, 10)\n(20, 10)\n(20, 10)\n(20, 10)\n(20, 10)\n(20, 10)\n(20, 10)\n(20, 10)\n(20, 10)\n(20, 10)\n(20, 10)\n(20, 10)\n(20, 10)\n(20, 10)\n(20, 10)\n(20, 10)\n(20, 10)\n(20, 10)\n(20, 10)\n(20, 10)\n(20, 10)\n(20, 10)\n(20, 10)\n(20, 10)\n(20, 10)\n(20, 10)\n(20, 10)\n(20, 10)\n(20, 10)\n(20, 10)\n(20, 10)\n(20, 10)\n(20, 10)\n(20, 10)\n(20, 10)\n(20, 10)\n(20, 10)\n(20, 10)\n(20, 10)\n(20, 10)\n(20, 10)\n(20, 10)\n(20, 10)\n(20, 10)\n(20, 10)\n(20, 10)\n(20, 10)\n(20, 10)\n(20, 10)\n(20, 10)\n(20, 10)\n(20, 10)\n(20, 10)\n(20, 10)\n(20, 10)\n(20, 10)\n(20, 10)\n(20, 10)\n(20, 10)\n(20, 10)\n(20, 10)\n(20, 10)\n(20, 10)\n(20, 10)\n(20, 10)\n(20, 10)\n(20, 10)\n(20, 10)\n(20, 10)\n(20, 10)\n(20, 10)\n(20, 10)\n(20, 10)\n(20, 10)\n(20, 10)\n(20, 10)\n(20, 10)\n(20, 10)\n(20, 10)\n(20, 10)\n(20, 10)\n(20, 10)\n(20, 10)\n(20, 10)\n(20, 10)\n(20, 10)\n(20, 10)\n(20, 10)\n(20, 10)\n(20, 10)\n(20, 10)\n(20, 10)\n(20, 10)\n(20, 10)\n(20, 10)\n(20, 10)\n(20, 10)\n(20, 10)\n(20, 10)\n(20, 10)\n(20, 10)\n(20, 10)\n(20, 10)\n(20, 10)\n(20, 10)\n(20, 10)\n(20, 10)\n(20, 10)\n(20, 10)\n(20, 10)\n(20, 10)\n(20, 10)\n(20, 10)\n(20, 10)\n(20, 10)\n(20, 10)\n(20, 10)\n(20, 10)\n(20, 10)\n(20, 10)\n(20, 10)\n(20, 10)\n(20, 10)\n(20, 10)\n(20, 10)\n(20, 10)\n(20, 10)\n(20, 10)\n(20, 10)\n(20, 10)\n(20, 10)\n(20, 10)\n(20, 10)\n(20, 10)\n(20, 10)\n(20, 10)\n(20, 10)\n(20, 10)\n(20, 10)\n(20, 10)\n(20, 10)\n(20, 10)\n(20, 10)\n(20, 10)\n(20, 10)\n(20, 10)\n(20, 10)\n(20, 10)\n(20, 10)\n(20, 10)\n(20, 10)\n(20, 10)\n(20, 10)\n(20, 10)\n(20, 10)\n(20, 10)\n(20, 10)\n(20, 10)\n(20, 10)\n(20, 10)\n(20, 10)\n(20, 10)\n(20, 10)\n(20, 10)\n(20, 10)\n(20, 10)\n(20, 10)\n(20, 10)\n(20, 10)\n(20, 10)\n(20, 10)\n(20, 10)\n(20, 10)\n(20, 10)\n(20, 10)\n(20, 10)\n(20, 10)\n(20, 10)\n(20, 10)\n(20, 10)\n(20, 10)\n(20, 10)\n(20, 10)\n(20, 10)\n(20, 10)\n(20, 10)\n(20, 10)\n(20, 10)\n(20, 10)\n(20, 10)\n(20, 10)\n(20, 10)\n(20, 10)\n(20, 10)\n(20, 10)\n(20, 10)\n(20, 10)\n(20, 10)\n(20, 10)\n(20, 10)\n(20, 10)\n(20, 10)\n(20, 10)\n(20, 10)\n(20, 10)\n(20, 10)\n(20, 10)\n(20, 10)\n(20, 10)\n(20, 10)\n(20, 10)\n(20, 10)\n(20, 10)\n(20, 10)\n(20, 10)\n(20, 10)\n(20, 10)\n(20, 10)\n(20, 10)\n(20, 10)\n(20, 10)\n(20, 10)\n(20, 10)\n(20, 10)\n(20, 10)\n(20, 10)\n(20, 10)\n(20, 10)\n(20, 10)\n(20, 10)\n(20, 10)\n(20, 10)\n(20, 10)\n(20, 10)\n(20, 10)\n(20, 10)\n(20, 10)\n(20, 10)\n(20, 10)\n(20, 10)\n(20, 10)\n(20, 10)\n(20, 10)\n(20, 10)\n(20, 10)\n(20, 10)\n(20, 10)\n(20, 10)\n(20, 10)\n(20, 10)\n(20, 10)\n(20, 10)\n(20, 10)\n(20, 10)\n(20, 10)\n(20, 10)\n(20, 10)\n(20, 10)\n(20, 10)\n(20, 10)\n(20, 10)\n(20, 10)\n(20, 10)\n(20, 10)\n(20, 10)\n(20, 10)\n(20, 10)\n(20, 10)\n(20, 10)\n(20, 10)\n(20, 10)\n(20, 10)\n(20, 10)\n(20, 10)\n(20, 10)\n(20, 10)\n(20, 10)\n(20, 10)\n(20, 10)\n(20, 10)\n(20, 10)\n(20, 10)\n(20, 10)\n(20, 10)\n(20, 10)\n(20, 10)\n(20, 10)\n(20, 10)\n(20, 10)\n(20, 10)\n(20, 10)\n(20, 10)\n(20, 10)\n(20, 10)\n(20, 10)\n(20, 10)\n(20, 10)\n(20, 10)\n(20, 10)\n(20, 10)\n(20, 10)\n(20, 10)\n(20, 10)\n(20, 10)\n(20, 10)\n(20, 10)\n(20, 10)\n(20, 10)\n(20, 10)\n(20, 10)\n(20, 10)\n(20, 10)\n(20, 10)\n(20, 10)\n(20, 10)\n(20, 10)\n(20, 10)\n(20, 10)\n(20, 10)\n(20, 10)\n(20, 10)\n(20, 10)\n(20, 10)\n(20, 10)\n(20, 10)\n(20, 10)\n(20, 10)\n(20, 10)\n(20, 10)\n(20, 10)\n(20, 10)\n(20, 10)\n(9000,) (9000,)\n(20, 10)\n(20, 10)\n(20, 10)\n(20, 10)\n(20, 10)\n(20, 10)\n(20, 10)\n(20, 10)\n(20, 10)\n(20, 10)\n(20, 10)\n(20, 10)\n(20, 10)\n(20, 10)\n(20, 10)\n(20, 10)\n(20, 10)\n(20, 10)\n(20, 10)\n(20, 10)\n(20, 10)\n(20, 10)\n(20, 10)\n(20, 10)\n(20, 10)\n(20, 10)\n(20, 10)\n(20, 10)\n(20, 10)\n(20, 10)\n(20, 10)\n(20, 10)\n(20, 10)\n(20, 10)\n(20, 10)\n(20, 10)\n(20, 10)\n(20, 10)\n(20, 10)\n(20, 10)\n(20, 10)\n(20, 10)\n(20, 10)\n(20, 10)\n(20, 10)\n(20, 10)\n(20, 10)\n(20, 10)\n(20, 10)\n(20, 10)\n(1000,) (1000,)\nLoss: 2.228145, Train accuracy: 0.196667, val accuracy: 0.206000\n(20, 10)\n(20, 10)\n(20, 10)\n(20, 10)\n(20, 10)\n(20, 10)\n(20, 10)\n(20, 10)\n(20, 10)\n(20, 10)\n(20, 10)\n(20, 10)\n(20, 10)\n(20, 10)\n(20, 10)\n(20, 10)\n(20, 10)\n(20, 10)\n(20, 10)\n(20, 10)\n(20, 10)\n(20, 10)\n(20, 10)\n(20, 10)\n(20, 10)\n(20, 10)\n(20, 10)\n(20, 10)\n(20, 10)\n(20, 10)\n(20, 10)\n(20, 10)\n(20, 10)\n(20, 10)\n(20, 10)\n(20, 10)\n(20, 10)\n(20, 10)\n(20, 10)\n(20, 10)\n(20, 10)\n(20, 10)\n(20, 10)\n(20, 10)\n(20, 10)\n(20, 10)\n(20, 10)\n(20, 10)\n(20, 10)\n(20, 10)\n(20, 10)\n(20, 10)\n(20, 10)\n(20, 10)\n(20, 10)\n(20, 10)\n(20, 10)\n(20, 10)\n(20, 10)\n(20, 10)\n(20, 10)\n(20, 10)\n(20, 10)\n(20, 10)\n(20, 10)\n(20, 10)\n(20, 10)\n(20, 10)\n(20, 10)\n(20, 10)\n(20, 10)\n(20, 10)\n(20, 10)\n(20, 10)\n(20, 10)\n(20, 10)\n(20, 10)\n(20, 10)\n(20, 10)\n(20, 10)\n(20, 10)\n(20, 10)\n(20, 10)\n(20, 10)\n(20, 10)\n(20, 10)\n(20, 10)\n(20, 10)\n(20, 10)\n(20, 10)\n(20, 10)\n(20, 10)\n(20, 10)\n(20, 10)\n(20, 10)\n(20, 10)\n(20, 10)\n(20, 10)\n(20, 10)\n(20, 10)\n(20, 10)\n(20, 10)\n(20, 10)\n(20, 10)\n(20, 10)\n(20, 10)\n(20, 10)\n(20, 10)\n(20, 10)\n(20, 10)\n(20, 10)\n(20, 10)\n(20, 10)\n(20, 10)\n(20, 10)\n(20, 10)\n(20, 10)\n(20, 10)\n(20, 10)\n(20, 10)\n(20, 10)\n(20, 10)\n(20, 10)\n(20, 10)\n(20, 10)\n(20, 10)\n(20, 10)\n(20, 10)\n(20, 10)\n(20, 10)\n(20, 10)\n(20, 10)\n(20, 10)\n(20, 10)\n(20, 10)\n(20, 10)\n(20, 10)\n(20, 10)\n(20, 10)\n(20, 10)\n(20, 10)\n(20, 10)\n(20, 10)\n(20, 10)\n(20, 10)\n(20, 10)\n(20, 10)\n(20, 10)\n(20, 10)\n(20, 10)\n(20, 10)\n(20, 10)\n(20, 10)\n(20, 10)\n(20, 10)\n(20, 10)\n(20, 10)\n(20, 10)\n(20, 10)\n(20, 10)\n(20, 10)\n(20, 10)\n(20, 10)\n(20, 10)\n(20, 10)\n(20, 10)\n(20, 10)\n(20, 10)\n(20, 10)\n(20, 10)\n(20, 10)\n(20, 10)\n(20, 10)\n(20, 10)\n(20, 10)\n(20, 10)\n(20, 10)\n(20, 10)\n(20, 10)\n(20, 10)\n(20, 10)\n(20, 10)\n(20, 10)\n(20, 10)\n(20, 10)\n(20, 10)\n(20, 10)\n(20, 10)\n(20, 10)\n(20, 10)\n(20, 10)\n(20, 10)\n(20, 10)\n(20, 10)\n(20, 10)\n(20, 10)\n(20, 10)\n(20, 10)\n(20, 10)\n(20, 10)\n(20, 10)\n(20, 10)\n(20, 10)\n(20, 10)\n(20, 10)\n(20, 10)\n(20, 10)\n(20, 10)\n(20, 10)\n(20, 10)\n(20, 10)\n(20, 10)\n(20, 10)\n(20, 10)\n(20, 10)\n(20, 10)\n(20, 10)\n(20, 10)\n(20, 10)\n(20, 10)\n(20, 10)\n(20, 10)\n(20, 10)\n(20, 10)\n(20, 10)\n(20, 10)\n(20, 10)\n(20, 10)\n(20, 10)\n(20, 10)\n(20, 10)\n(20, 10)\n(20, 10)\n(20, 10)\n(20, 10)\n(20, 10)\n(20, 10)\n(20, 10)\n(20, 10)\n(20, 10)\n(20, 10)\n(20, 10)\n(20, 10)\n(20, 10)\n(20, 10)\n(20, 10)\n(20, 10)\n(20, 10)\n(20, 10)\n(20, 10)\n(20, 10)\n(20, 10)\n(20, 10)\n(20, 10)\n(20, 10)\n(20, 10)\n(20, 10)\n(20, 10)\n(20, 10)\n(20, 10)\n(20, 10)\n(20, 10)\n(20, 10)\n(20, 10)\n(20, 10)\n(20, 10)\n(20, 10)\n(20, 10)\n(20, 10)\n(20, 10)\n(20, 10)\n(20, 10)\n(20, 10)\n(20, 10)\n(20, 10)\n(20, 10)\n(20, 10)\n(20, 10)\n(20, 10)\n(20, 10)\n(20, 10)\n(20, 10)\n(20, 10)\n(20, 10)\n(20, 10)\n(20, 10)\n(20, 10)\n(20, 10)\n(20, 10)\n(20, 10)\n(20, 10)\n(20, 10)\n(20, 10)\n(20, 10)\n(20, 10)\n(20, 10)\n(20, 10)\n(20, 10)\n(20, 10)\n(20, 10)\n(20, 10)\n(20, 10)\n(20, 10)\n(20, 10)\n(20, 10)\n(20, 10)\n(20, 10)\n(20, 10)\n(20, 10)\n(20, 10)\n(20, 10)\n(20, 10)\n(20, 10)\n(20, 10)\n(20, 10)\n(20, 10)\n(20, 10)\n(20, 10)\n(20, 10)\n(20, 10)\n(20, 10)\n(20, 10)\n(20, 10)\n(20, 10)\n(20, 10)\n(20, 10)\n(20, 10)\n(20, 10)\n(20, 10)\n(20, 10)\n(20, 10)\n(20, 10)\n(20, 10)\n(20, 10)\n(20, 10)\n(20, 10)\n(20, 10)\n(20, 10)\n(20, 10)\n(20, 10)\n(20, 10)\n(20, 10)\n(20, 10)\n(20, 10)\n(20, 10)\n(20, 10)\n(20, 10)\n(20, 10)\n(20, 10)\n(20, 10)\n(20, 10)\n(20, 10)\n(20, 10)\n(20, 10)\n(20, 10)\n(20, 10)\n(20, 10)\n(20, 10)\n(20, 10)\n(20, 10)\n(20, 10)\n(20, 10)\n(20, 10)\n(20, 10)\n(20, 10)\n(20, 10)\n(20, 10)\n(20, 10)\n(20, 10)\n(20, 10)\n(20, 10)\n(20, 10)\n(20, 10)\n(20, 10)\n(20, 10)\n(20, 10)\n(20, 10)\n(20, 10)\n(20, 10)\n(20, 10)\n(20, 10)\n(20, 10)\n(20, 10)\n(20, 10)\n(20, 10)\n(20, 10)\n(20, 10)\n(20, 10)\n(20, 10)\n(20, 10)\n(20, 10)\n(20, 10)\n(20, 10)\n(20, 10)\n(20, 10)\n(20, 10)\n(20, 10)\n(20, 10)\n(20, 10)\n(20, 10)\n(20, 10)\n(20, 10)\n(20, 10)\n(20, 10)\n(20, 10)\n(20, 10)\n(20, 10)\n(20, 10)\n(20, 10)\n(20, 10)\n(20, 10)\n(20, 10)\n(20, 10)\n(20, 10)\n(20, 10)\n(20, 10)\n(20, 10)\n(20, 10)\n(20, 10)\n(20, 10)\n(20, 10)\n(20, 10)\n(20, 10)\n(20, 10)\n(20, 10)\n(20, 10)\n(20, 10)\n(20, 10)\n(20, 10)\n(20, 10)\n(20, 10)\n(20, 10)\n(20, 10)\n(20, 10)\n(20, 10)\n(20, 10)\n(20, 10)\n(20, 10)\n(20, 10)\n(20, 10)\n(20, 10)\n(20, 10)\n(20, 10)\n(20, 10)\n(20, 10)\n(20, 10)\n(20, 10)\n(20, 10)\n(20, 10)\n(20, 10)\n(9000,) (9000,)\n(20, 10)\n(20, 10)\n(20, 10)\n(20, 10)\n(20, 10)\n(20, 10)\n(20, 10)\n(20, 10)\n(20, 10)\n(20, 10)\n(20, 10)\n(20, 10)\n(20, 10)\n(20, 10)\n(20, 10)\n(20, 10)\n(20, 10)\n(20, 10)\n(20, 10)\n(20, 10)\n(20, 10)\n(20, 10)\n(20, 10)\n(20, 10)\n(20, 10)\n(20, 10)\n(20, 10)\n(20, 10)\n(20, 10)\n(20, 10)\n(20, 10)\n(20, 10)\n(20, 10)\n(20, 10)\n(20, 10)\n(20, 10)\n(20, 10)\n(20, 10)\n(20, 10)\n(20, 10)\n(20, 10)\n(20, 10)\n(20, 10)\n(20, 10)\n(20, 10)\n(20, 10)\n(20, 10)\n(20, 10)\n(20, 10)\n(20, 10)\n(1000,) (1000,)\nLoss: 2.228116, Train accuracy: 0.196667, val accuracy: 0.206000\n(20, 10)\n(20, 10)\n(20, 10)\n(20, 10)\n(20, 10)\n(20, 10)\n(20, 10)\n(20, 10)\n(20, 10)\n(20, 10)\n(20, 10)\n(20, 10)\n(20, 10)\n(20, 10)\n(20, 10)\n(20, 10)\n(20, 10)\n(20, 10)\n(20, 10)\n(20, 10)\n(20, 10)\n(20, 10)\n(20, 10)\n(20, 10)\n(20, 10)\n(20, 10)\n(20, 10)\n(20, 10)\n(20, 10)\n(20, 10)\n(20, 10)\n(20, 10)\n(20, 10)\n(20, 10)\n(20, 10)\n(20, 10)\n(20, 10)\n(20, 10)\n(20, 10)\n(20, 10)\n(20, 10)\n(20, 10)\n(20, 10)\n(20, 10)\n(20, 10)\n(20, 10)\n(20, 10)\n(20, 10)\n(20, 10)\n(20, 10)\n(20, 10)\n(20, 10)\n(20, 10)\n(20, 10)\n(20, 10)\n(20, 10)\n(20, 10)\n(20, 10)\n(20, 10)\n(20, 10)\n(20, 10)\n(20, 10)\n(20, 10)\n(20, 10)\n(20, 10)\n(20, 10)\n(20, 10)\n(20, 10)\n(20, 10)\n(20, 10)\n(20, 10)\n(20, 10)\n(20, 10)\n(20, 10)\n(20, 10)\n(20, 10)\n(20, 10)\n(20, 10)\n(20, 10)\n(20, 10)\n(20, 10)\n(20, 10)\n(20, 10)\n(20, 10)\n(20, 10)\n(20, 10)\n(20, 10)\n(20, 10)\n(20, 10)\n(20, 10)\n(20, 10)\n(20, 10)\n(20, 10)\n(20, 10)\n(20, 10)\n(20, 10)\n(20, 10)\n(20, 10)\n(20, 10)\n(20, 10)\n(20, 10)\n(20, 10)\n(20, 10)\n(20, 10)\n(20, 10)\n(20, 10)\n(20, 10)\n(20, 10)\n(20, 10)\n(20, 10)\n(20, 10)\n(20, 10)\n(20, 10)\n(20, 10)\n(20, 10)\n(20, 10)\n(20, 10)\n(20, 10)\n(20, 10)\n(20, 10)\n(20, 10)\n(20, 10)\n(20, 10)\n(20, 10)\n(20, 10)\n(20, 10)\n(20, 10)\n(20, 10)\n(20, 10)\n(20, 10)\n(20, 10)\n(20, 10)\n(20, 10)\n(20, 10)\n(20, 10)\n(20, 10)\n(20, 10)\n(20, 10)\n(20, 10)\n(20, 10)\n(20, 10)\n(20, 10)\n(20, 10)\n(20, 10)\n(20, 10)\n(20, 10)\n(20, 10)\n(20, 10)\n(20, 10)\n(20, 10)\n(20, 10)\n(20, 10)\n(20, 10)\n(20, 10)\n(20, 10)\n(20, 10)\n(20, 10)\n(20, 10)\n(20, 10)\n(20, 10)\n(20, 10)\n(20, 10)\n(20, 10)\n(20, 10)\n(20, 10)\n(20, 10)\n(20, 10)\n(20, 10)\n(20, 10)\n(20, 10)\n(20, 10)\n(20, 10)\n(20, 10)\n(20, 10)\n(20, 10)\n(20, 10)\n(20, 10)\n(20, 10)\n(20, 10)\n(20, 10)\n(20, 10)\n(20, 10)\n(20, 10)\n(20, 10)\n(20, 10)\n(20, 10)\n(20, 10)\n(20, 10)\n(20, 10)\n(20, 10)\n(20, 10)\n(20, 10)\n(20, 10)\n(20, 10)\n(20, 10)\n(20, 10)\n(20, 10)\n(20, 10)\n(20, 10)\n(20, 10)\n(20, 10)\n(20, 10)\n(20, 10)\n(20, 10)\n(20, 10)\n(20, 10)\n(20, 10)\n(20, 10)\n(20, 10)\n(20, 10)\n(20, 10)\n(20, 10)\n(20, 10)\n(20, 10)\n(20, 10)\n(20, 10)\n(20, 10)\n(20, 10)\n(20, 10)\n(20, 10)\n(20, 10)\n(20, 10)\n(20, 10)\n(20, 10)\n(20, 10)\n(20, 10)\n(20, 10)\n(20, 10)\n(20, 10)\n(20, 10)\n(20, 10)\n(20, 10)\n(20, 10)\n(20, 10)\n(20, 10)\n(20, 10)\n(20, 10)\n(20, 10)\n(20, 10)\n(20, 10)\n(20, 10)\n(20, 10)\n(20, 10)\n(20, 10)\n(20, 10)\n(20, 10)\n(20, 10)\n(20, 10)\n(20, 10)\n(20, 10)\n(20, 10)\n(20, 10)\n(20, 10)\n(20, 10)\n(20, 10)\n(20, 10)\n(20, 10)\n(20, 10)\n(20, 10)\n(20, 10)\n(20, 10)\n(20, 10)\n(20, 10)\n(20, 10)\n(20, 10)\n(20, 10)\n(20, 10)\n(20, 10)\n(20, 10)\n(20, 10)\n(20, 10)\n(20, 10)\n(20, 10)\n(20, 10)\n(20, 10)\n(20, 10)\n(20, 10)\n(20, 10)\n(20, 10)\n(20, 10)\n(20, 10)\n(20, 10)\n(20, 10)\n(20, 10)\n(20, 10)\n(20, 10)\n(20, 10)\n(20, 10)\n(20, 10)\n(20, 10)\n(20, 10)\n(20, 10)\n(20, 10)\n(20, 10)\n(20, 10)\n(20, 10)\n(20, 10)\n(20, 10)\n(20, 10)\n(20, 10)\n(20, 10)\n(20, 10)\n(20, 10)\n(20, 10)\n(20, 10)\n(20, 10)\n(20, 10)\n(20, 10)\n(20, 10)\n(20, 10)\n(20, 10)\n(20, 10)\n(20, 10)\n(20, 10)\n(20, 10)\n(20, 10)\n(20, 10)\n(20, 10)\n(20, 10)\n(20, 10)\n(20, 10)\n(20, 10)\n(20, 10)\n(20, 10)\n(20, 10)\n(20, 10)\n(20, 10)\n(20, 10)\n(20, 10)\n(20, 10)\n(20, 10)\n(20, 10)\n(20, 10)\n(20, 10)\n(20, 10)\n(20, 10)\n(20, 10)\n(20, 10)\n(20, 10)\n(20, 10)\n(20, 10)\n(20, 10)\n(20, 10)\n(20, 10)\n(20, 10)\n(20, 10)\n(20, 10)\n(20, 10)\n(20, 10)\n(20, 10)\n(20, 10)\n(20, 10)\n(20, 10)\n(20, 10)\n(20, 10)\n(20, 10)\n(20, 10)\n(20, 10)\n(20, 10)\n(20, 10)\n(20, 10)\n(20, 10)\n(20, 10)\n(20, 10)\n(20, 10)\n(20, 10)\n(20, 10)\n(20, 10)\n(20, 10)\n(20, 10)\n(20, 10)\n(20, 10)\n(20, 10)\n(20, 10)\n(20, 10)\n(20, 10)\n(20, 10)\n(20, 10)\n(20, 10)\n(20, 10)\n(20, 10)\n(20, 10)\n(20, 10)\n(20, 10)\n(20, 10)\n(20, 10)\n(20, 10)\n(20, 10)\n(20, 10)\n(20, 10)\n(20, 10)\n(20, 10)\n(20, 10)\n(20, 10)\n(20, 10)\n(20, 10)\n(20, 10)\n(20, 10)\n(20, 10)\n(20, 10)\n(20, 10)\n(20, 10)\n(20, 10)\n(20, 10)\n(20, 10)\n(20, 10)\n(20, 10)\n(20, 10)\n(20, 10)\n(20, 10)\n(20, 10)\n(20, 10)\n(20, 10)\n(20, 10)\n(20, 10)\n(20, 10)\n(20, 10)\n(20, 10)\n(20, 10)\n(20, 10)\n(20, 10)\n(20, 10)\n(20, 10)\n(20, 10)\n(20, 10)\n(20, 10)\n(20, 10)\n(20, 10)\n(20, 10)\n(20, 10)\n(20, 10)\n(20, 10)\n(20, 10)\n(20, 10)\n(20, 10)\n(20, 10)\n(20, 10)\n(20, 10)\n(20, 10)\n(20, 10)\n(20, 10)\n(20, 10)\n(20, 10)\n(20, 10)\n(20, 10)\n(20, 10)\n(20, 10)\n(20, 10)\n(20, 10)\n(20, 10)\n(9000,) (9000,)\n(20, 10)\n(20, 10)\n(20, 10)\n(20, 10)\n(20, 10)\n(20, 10)\n(20, 10)\n(20, 10)\n(20, 10)\n(20, 10)\n(20, 10)\n(20, 10)\n(20, 10)\n(20, 10)\n(20, 10)\n(20, 10)\n(20, 10)\n(20, 10)\n(20, 10)\n(20, 10)\n(20, 10)\n(20, 10)\n(20, 10)\n(20, 10)\n(20, 10)\n(20, 10)\n(20, 10)\n(20, 10)\n(20, 10)\n(20, 10)\n(20, 10)\n(20, 10)\n(20, 10)\n(20, 10)\n(20, 10)\n(20, 10)\n(20, 10)\n(20, 10)\n(20, 10)\n(20, 10)\n(20, 10)\n(20, 10)\n(20, 10)\n(20, 10)\n(20, 10)\n(20, 10)\n(20, 10)\n(20, 10)\n(20, 10)\n(20, 10)\n(1000,) (1000,)\nLoss: 2.228102, Train accuracy: 0.196667, val accuracy: 0.206000\n"
    }
   ],
   "source": [
    "model = TwoLayerNet(n_input = train_X.shape[1], n_output = 10, hidden_layer_size = 15, reg = 1e1)\n",
    "dataset = Dataset(train_X, train_y, val_X, val_y)\n",
    "trainer = Trainer(model, dataset, SGD(), learning_rate = 1e-2)\n",
    "\n",
    "# TODO Implement missing pieces in Trainer.fit function\n",
    "# You should expect loss to go down every epoch, even if it's slow\n",
    "loss_history, train_history, val_history = trainer.fit()"
   ]
  },
  {
   "cell_type": "code",
   "execution_count": 12,
   "metadata": {},
   "outputs": [
    {
     "data": {
      "text/plain": "[<matplotlib.lines.Line2D at 0x7f5170ffb350>]"
     },
     "execution_count": 12,
     "metadata": {},
     "output_type": "execute_result"
    },
    {
     "data": {
      "image/png": "[encoded data removed]",
      "image/svg+xml": "<?xml version=\"1.0\" encoding=\"utf-8\" standalone=\"no\"?>\n<!DOCTYPE svg PUBLIC \"-//W3C//DTD SVG 1.1//EN\"\n  \"http://www.w3.org/Graphics/SVG/1.1/DTD/svg11.dtd\">\n<!-- Created with matplotlib (https://matplotlib.org/) -->\n<svg height=\"248.518125pt\" version=\"1.1\" viewBox=\"0 0 378.465625 248.518125\" width=\"378.465625pt\" xmlns=\"http://www.w3.org/2000/svg\" xmlns:xlink=\"http://www.w3.org/1999/xlink\">\n <defs>\n  <style type=\"text/css\">\n*{stroke-linecap:butt;stroke-linejoin:round;}\n  </style>\n </defs>\n <g id=\"figure_1\">\n  <g id=\"patch_1\">\n   <path d=\"M 0 248.518125 \nL 378.465625 248.518125 \nL 378.465625 0 \nL 0 0 \nz\n\" style=\"fill:none;\"/>\n  </g>\n  <g id=\"axes_1\">\n   <g id=\"patch_2\">\n    <path d=\"M 36.465625 224.64 \nL 371.265625 224.64 \nL 371.265625 7.2 \nL 36.465625 7.2 \nz\n\" style=\"fill:#ffffff;\"/>\n   </g>\n   <g id=\"matplotlib.axis_1\">\n    <g id=\"xtick_1\">\n     <g id=\"line2d_1\">\n      <defs>\n       <path d=\"M 0 0 \nL 0 3.5 \n\" id=\"mbbe6e6b4a6\" style=\"stroke:#000000;stroke-width:0.8;\"/>\n      </defs>\n      <g>\n       <use style=\"stroke:#000000;stroke-width:0.8;\" x=\"51.683807\" xlink:href=\"#mbbe6e6b4a6\" y=\"224.64\"/>\n      </g>\n     </g>\n     <g id=\"text_1\">\n      <!-- 0 -->\n      <defs>\n       <path d=\"M 31.78125 66.40625 \nQ 24.171875 66.40625 20.328125 58.90625 \nQ 16.5 51.421875 16.5 36.375 \nQ 16.5 21.390625 20.328125 13.890625 \nQ 24.171875 6.390625 31.78125 6.390625 \nQ 39.453125 6.390625 43.28125 13.890625 \nQ 47.125 21.390625 47.125 36.375 \nQ 47.125 51.421875 43.28125 58.90625 \nQ 39.453125 66.40625 31.78125 66.40625 \nz\nM 31.78125 74.21875 \nQ 44.046875 74.21875 50.515625 64.515625 \nQ 56.984375 54.828125 56.984375 36.375 \nQ 56.984375 17.96875 50.515625 8.265625 \nQ 44.046875 -1.421875 31.78125 -1.421875 \nQ 19.53125 -1.421875 13.0625 8.265625 \nQ 6.59375 17.96875 6.59375 36.375 \nQ 6.59375 54.828125 13.0625 64.515625 \nQ 19.53125 74.21875 31.78125 74.21875 \nz\n\" id=\"DejaVuSans-48\"/>\n      </defs>\n      <g transform=\"translate(48.502557 239.238437)scale(0.1 -0.1)\">\n       <use xlink:href=\"#DejaVuSans-48\"/>\n      </g>\n     </g>\n    </g>\n    <g id=\"xtick_2\">\n     <g id=\"line2d_2\">\n      <g>\n       <use style=\"stroke:#000000;stroke-width:0.8;\" x=\"119.32017\" xlink:href=\"#mbbe6e6b4a6\" y=\"224.64\"/>\n      </g>\n     </g>\n     <g id=\"text_2\">\n      <!-- 2 -->\n      <defs>\n       <path d=\"M 19.1875 8.296875 \nL 53.609375 8.296875 \nL 53.609375 0 \nL 7.328125 0 \nL 7.328125 8.296875 \nQ 12.9375 14.109375 22.625 23.890625 \nQ 32.328125 33.6875 34.8125 36.53125 \nQ 39.546875 41.84375 41.421875 45.53125 \nQ 43.3125 49.21875 43.3125 52.78125 \nQ 43.3125 58.59375 39.234375 62.25 \nQ 35.15625 65.921875 28.609375 65.921875 \nQ 23.96875 65.921875 18.8125 64.3125 \nQ 13.671875 62.703125 7.8125 59.421875 \nL 7.8125 69.390625 \nQ 13.765625 71.78125 18.9375 73 \nQ 24.125 74.21875 28.421875 74.21875 \nQ 39.75 74.21875 46.484375 68.546875 \nQ 53.21875 62.890625 53.21875 53.421875 \nQ 53.21875 48.921875 51.53125 44.890625 \nQ 49.859375 40.875 45.40625 35.40625 \nQ 44.1875 33.984375 37.640625 27.21875 \nQ 31.109375 20.453125 19.1875 8.296875 \nz\n\" id=\"DejaVuSans-50\"/>\n      </defs>\n      <g transform=\"translate(116.13892 239.238437)scale(0.1 -0.1)\">\n       <use xlink:href=\"#DejaVuSans-50\"/>\n      </g>\n     </g>\n    </g>\n    <g id=\"xtick_3\">\n     <g id=\"line2d_3\">\n      <g>\n       <use style=\"stroke:#000000;stroke-width:0.8;\" x=\"186.956534\" xlink:href=\"#mbbe6e6b4a6\" y=\"224.64\"/>\n      </g>\n     </g>\n     <g id=\"text_3\">\n      <!-- 4 -->\n      <defs>\n       <path d=\"M 37.796875 64.3125 \nL 12.890625 25.390625 \nL 37.796875 25.390625 \nz\nM 35.203125 72.90625 \nL 47.609375 72.90625 \nL 47.609375 25.390625 \nL 58.015625 25.390625 \nL 58.015625 17.1875 \nL 47.609375 17.1875 \nL 47.609375 0 \nL 37.796875 0 \nL 37.796875 17.1875 \nL 4.890625 17.1875 \nL 4.890625 26.703125 \nz\n\" id=\"DejaVuSans-52\"/>\n      </defs>\n      <g transform=\"translate(183.775284 239.238437)scale(0.1 -0.1)\">\n       <use xlink:href=\"#DejaVuSans-52\"/>\n      </g>\n     </g>\n    </g>\n    <g id=\"xtick_4\">\n     <g id=\"line2d_4\">\n      <g>\n       <use style=\"stroke:#000000;stroke-width:0.8;\" x=\"254.592898\" xlink:href=\"#mbbe6e6b4a6\" y=\"224.64\"/>\n      </g>\n     </g>\n     <g id=\"text_4\">\n      <!-- 6 -->\n      <defs>\n       <path d=\"M 33.015625 40.375 \nQ 26.375 40.375 22.484375 35.828125 \nQ 18.609375 31.296875 18.609375 23.390625 \nQ 18.609375 15.53125 22.484375 10.953125 \nQ 26.375 6.390625 33.015625 6.390625 \nQ 39.65625 6.390625 43.53125 10.953125 \nQ 47.40625 15.53125 47.40625 23.390625 \nQ 47.40625 31.296875 43.53125 35.828125 \nQ 39.65625 40.375 33.015625 40.375 \nz\nM 52.59375 71.296875 \nL 52.59375 62.3125 \nQ 48.875 64.0625 45.09375 64.984375 \nQ 41.3125 65.921875 37.59375 65.921875 \nQ 27.828125 65.921875 22.671875 59.328125 \nQ 17.53125 52.734375 16.796875 39.40625 \nQ 19.671875 43.65625 24.015625 45.921875 \nQ 28.375 48.1875 33.59375 48.1875 \nQ 44.578125 48.1875 50.953125 41.515625 \nQ 57.328125 34.859375 57.328125 23.390625 \nQ 57.328125 12.15625 50.6875 5.359375 \nQ 44.046875 -1.421875 33.015625 -1.421875 \nQ 20.359375 -1.421875 13.671875 8.265625 \nQ 6.984375 17.96875 6.984375 36.375 \nQ 6.984375 53.65625 15.1875 63.9375 \nQ 23.390625 74.21875 37.203125 74.21875 \nQ 40.921875 74.21875 44.703125 73.484375 \nQ 48.484375 72.75 52.59375 71.296875 \nz\n\" id=\"DejaVuSans-54\"/>\n      </defs>\n      <g transform=\"translate(251.411648 239.238437)scale(0.1 -0.1)\">\n       <use xlink:href=\"#DejaVuSans-54\"/>\n      </g>\n     </g>\n    </g>\n    <g id=\"xtick_5\">\n     <g id=\"line2d_5\">\n      <g>\n       <use style=\"stroke:#000000;stroke-width:0.8;\" x=\"322.229261\" xlink:href=\"#mbbe6e6b4a6\" y=\"224.64\"/>\n      </g>\n     </g>\n     <g id=\"text_5\">\n      <!-- 8 -->\n      <defs>\n       <path d=\"M 31.78125 34.625 \nQ 24.75 34.625 20.71875 30.859375 \nQ 16.703125 27.09375 16.703125 20.515625 \nQ 16.703125 13.921875 20.71875 10.15625 \nQ 24.75 6.390625 31.78125 6.390625 \nQ 38.8125 6.390625 42.859375 10.171875 \nQ 46.921875 13.96875 46.921875 20.515625 \nQ 46.921875 27.09375 42.890625 30.859375 \nQ 38.875 34.625 31.78125 34.625 \nz\nM 21.921875 38.8125 \nQ 15.578125 40.375 12.03125 44.71875 \nQ 8.5 49.078125 8.5 55.328125 \nQ 8.5 64.0625 14.71875 69.140625 \nQ 20.953125 74.21875 31.78125 74.21875 \nQ 42.671875 74.21875 48.875 69.140625 \nQ 55.078125 64.0625 55.078125 55.328125 \nQ 55.078125 49.078125 51.53125 44.71875 \nQ 48 40.375 41.703125 38.8125 \nQ 48.828125 37.15625 52.796875 32.3125 \nQ 56.78125 27.484375 56.78125 20.515625 \nQ 56.78125 9.90625 50.3125 4.234375 \nQ 43.84375 -1.421875 31.78125 -1.421875 \nQ 19.734375 -1.421875 13.25 4.234375 \nQ 6.78125 9.90625 6.78125 20.515625 \nQ 6.78125 27.484375 10.78125 32.3125 \nQ 14.796875 37.15625 21.921875 38.8125 \nz\nM 18.3125 54.390625 \nQ 18.3125 48.734375 21.84375 45.5625 \nQ 25.390625 42.390625 31.78125 42.390625 \nQ 38.140625 42.390625 41.71875 45.5625 \nQ 45.3125 48.734375 45.3125 54.390625 \nQ 45.3125 60.0625 41.71875 63.234375 \nQ 38.140625 66.40625 31.78125 66.40625 \nQ 25.390625 66.40625 21.84375 63.234375 \nQ 18.3125 60.0625 18.3125 54.390625 \nz\n\" id=\"DejaVuSans-56\"/>\n      </defs>\n      <g transform=\"translate(319.048011 239.238437)scale(0.1 -0.1)\">\n       <use xlink:href=\"#DejaVuSans-56\"/>\n      </g>\n     </g>\n    </g>\n   </g>\n   <g id=\"matplotlib.axis_2\">\n    <g id=\"ytick_1\">\n     <g id=\"line2d_6\">\n      <defs>\n       <path d=\"M 0 0 \nL -3.5 0 \n\" id=\"me115f607c2\" style=\"stroke:#000000;stroke-width:0.8;\"/>\n      </defs>\n      <g>\n       <use style=\"stroke:#000000;stroke-width:0.8;\" x=\"36.465625\" xlink:href=\"#me115f607c2\" y=\"207.1708\"/>\n      </g>\n     </g>\n     <g id=\"text_6\">\n      <!-- 2.23 -->\n      <defs>\n       <path d=\"M 10.6875 12.40625 \nL 21 12.40625 \nL 21 0 \nL 10.6875 0 \nz\n\" id=\"DejaVuSans-46\"/>\n       <path d=\"M 40.578125 39.3125 \nQ 47.65625 37.796875 51.625 33 \nQ 55.609375 28.21875 55.609375 21.1875 \nQ 55.609375 10.40625 48.1875 4.484375 \nQ 40.765625 -1.421875 27.09375 -1.421875 \nQ 22.515625 -1.421875 17.65625 -0.515625 \nQ 12.796875 0.390625 7.625 2.203125 \nL 7.625 11.71875 \nQ 11.71875 9.328125 16.59375 8.109375 \nQ 21.484375 6.890625 26.8125 6.890625 \nQ 36.078125 6.890625 40.9375 10.546875 \nQ 45.796875 14.203125 45.796875 21.1875 \nQ 45.796875 27.640625 41.28125 31.265625 \nQ 36.765625 34.90625 28.71875 34.90625 \nL 20.21875 34.90625 \nL 20.21875 43.015625 \nL 29.109375 43.015625 \nQ 36.375 43.015625 40.234375 45.921875 \nQ 44.09375 48.828125 44.09375 54.296875 \nQ 44.09375 59.90625 40.109375 62.90625 \nQ 36.140625 65.921875 28.71875 65.921875 \nQ 24.65625 65.921875 20.015625 65.03125 \nQ 15.375 64.15625 9.8125 62.3125 \nL 9.8125 71.09375 \nQ 15.4375 72.65625 20.34375 73.4375 \nQ 25.25 74.21875 29.59375 74.21875 \nQ 40.828125 74.21875 47.359375 69.109375 \nQ 53.90625 64.015625 53.90625 55.328125 \nQ 53.90625 49.265625 50.4375 45.09375 \nQ 46.96875 40.921875 40.578125 39.3125 \nz\n\" id=\"DejaVuSans-51\"/>\n      </defs>\n      <g transform=\"translate(7.2 210.970018)scale(0.1 -0.1)\">\n       <use xlink:href=\"#DejaVuSans-50\"/>\n       <use x=\"63.623047\" xlink:href=\"#DejaVuSans-46\"/>\n       <use x=\"95.410156\" xlink:href=\"#DejaVuSans-50\"/>\n       <use x=\"159.033203\" xlink:href=\"#DejaVuSans-51\"/>\n      </g>\n     </g>\n    </g>\n    <g id=\"ytick_2\">\n     <g id=\"line2d_7\">\n      <g>\n       <use style=\"stroke:#000000;stroke-width:0.8;\" x=\"36.465625\" xlink:href=\"#me115f607c2\" y=\"167.067566\"/>\n      </g>\n     </g>\n     <g id=\"text_7\">\n      <!-- 2.24 -->\n      <g transform=\"translate(7.2 170.866785)scale(0.1 -0.1)\">\n       <use xlink:href=\"#DejaVuSans-50\"/>\n       <use x=\"63.623047\" xlink:href=\"#DejaVuSans-46\"/>\n       <use x=\"95.410156\" xlink:href=\"#DejaVuSans-50\"/>\n       <use x=\"159.033203\" xlink:href=\"#DejaVuSans-52\"/>\n      </g>\n     </g>\n    </g>\n    <g id=\"ytick_3\">\n     <g id=\"line2d_8\">\n      <g>\n       <use style=\"stroke:#000000;stroke-width:0.8;\" x=\"36.465625\" xlink:href=\"#me115f607c2\" y=\"126.964333\"/>\n      </g>\n     </g>\n     <g id=\"text_8\">\n      <!-- 2.25 -->\n      <defs>\n       <path d=\"M 10.796875 72.90625 \nL 49.515625 72.90625 \nL 49.515625 64.59375 \nL 19.828125 64.59375 \nL 19.828125 46.734375 \nQ 21.96875 47.46875 24.109375 47.828125 \nQ 26.265625 48.1875 28.421875 48.1875 \nQ 40.625 48.1875 47.75 41.5 \nQ 54.890625 34.8125 54.890625 23.390625 \nQ 54.890625 11.625 47.5625 5.09375 \nQ 40.234375 -1.421875 26.90625 -1.421875 \nQ 22.3125 -1.421875 17.546875 -0.640625 \nQ 12.796875 0.140625 7.71875 1.703125 \nL 7.71875 11.625 \nQ 12.109375 9.234375 16.796875 8.0625 \nQ 21.484375 6.890625 26.703125 6.890625 \nQ 35.15625 6.890625 40.078125 11.328125 \nQ 45.015625 15.765625 45.015625 23.390625 \nQ 45.015625 31 40.078125 35.4375 \nQ 35.15625 39.890625 26.703125 39.890625 \nQ 22.75 39.890625 18.8125 39.015625 \nQ 14.890625 38.140625 10.796875 36.28125 \nz\n\" id=\"DejaVuSans-53\"/>\n      </defs>\n      <g transform=\"translate(7.2 130.763551)scale(0.1 -0.1)\">\n       <use xlink:href=\"#DejaVuSans-50\"/>\n       <use x=\"63.623047\" xlink:href=\"#DejaVuSans-46\"/>\n       <use x=\"95.410156\" xlink:href=\"#DejaVuSans-50\"/>\n       <use x=\"159.033203\" xlink:href=\"#DejaVuSans-53\"/>\n      </g>\n     </g>\n    </g>\n    <g id=\"ytick_4\">\n     <g id=\"line2d_9\">\n      <g>\n       <use style=\"stroke:#000000;stroke-width:0.8;\" x=\"36.465625\" xlink:href=\"#me115f607c2\" y=\"86.861099\"/>\n      </g>\n     </g>\n     <g id=\"text_9\">\n      <!-- 2.26 -->\n      <g transform=\"translate(7.2 90.660318)scale(0.1 -0.1)\">\n       <use xlink:href=\"#DejaVuSans-50\"/>\n       <use x=\"63.623047\" xlink:href=\"#DejaVuSans-46\"/>\n       <use x=\"95.410156\" xlink:href=\"#DejaVuSans-50\"/>\n       <use x=\"159.033203\" xlink:href=\"#DejaVuSans-54\"/>\n      </g>\n     </g>\n    </g>\n    <g id=\"ytick_5\">\n     <g id=\"line2d_10\">\n      <g>\n       <use style=\"stroke:#000000;stroke-width:0.8;\" x=\"36.465625\" xlink:href=\"#me115f607c2\" y=\"46.757866\"/>\n      </g>\n     </g>\n     <g id=\"text_10\">\n      <!-- 2.27 -->\n      <defs>\n       <path d=\"M 8.203125 72.90625 \nL 55.078125 72.90625 \nL 55.078125 68.703125 \nL 28.609375 0 \nL 18.3125 0 \nL 43.21875 64.59375 \nL 8.203125 64.59375 \nz\n\" id=\"DejaVuSans-55\"/>\n      </defs>\n      <g transform=\"translate(7.2 50.557084)scale(0.1 -0.1)\">\n       <use xlink:href=\"#DejaVuSans-50\"/>\n       <use x=\"63.623047\" xlink:href=\"#DejaVuSans-46\"/>\n       <use x=\"95.410156\" xlink:href=\"#DejaVuSans-50\"/>\n       <use x=\"159.033203\" xlink:href=\"#DejaVuSans-55\"/>\n      </g>\n     </g>\n    </g>\n   </g>\n   <g id=\"line2d_11\">\n    <path clip-path=\"url(#p904f8a6074)\" d=\"M 51.683807 17.083636 \nL 85.501989 150.073743 \nL 119.32017 191.867331 \nL 153.138352 206.122604 \nL 186.956534 211.276608 \nL 220.774716 213.289576 \nL 254.592898 214.132156 \nL 288.41108 214.504334 \nL 322.229261 214.675398 \nL 356.047443 214.756364 \n\" style=\"fill:none;stroke:#1f77b4;stroke-linecap:square;stroke-width:1.5;\"/>\n   </g>\n   <g id=\"patch_3\">\n    <path d=\"M 36.465625 224.64 \nL 36.465625 7.2 \n\" style=\"fill:none;stroke:#000000;stroke-linecap:square;stroke-linejoin:miter;stroke-width:0.8;\"/>\n   </g>\n   <g id=\"patch_4\">\n    <path d=\"M 371.265625 224.64 \nL 371.265625 7.2 \n\" style=\"fill:none;stroke:#000000;stroke-linecap:square;stroke-linejoin:miter;stroke-width:0.8;\"/>\n   </g>\n   <g id=\"patch_5\">\n    <path d=\"M 36.465625 224.64 \nL 371.265625 224.64 \n\" style=\"fill:none;stroke:#000000;stroke-linecap:square;stroke-linejoin:miter;stroke-width:0.8;\"/>\n   </g>\n   <g id=\"patch_6\">\n    <path d=\"M 36.465625 7.2 \nL 371.265625 7.2 \n\" style=\"fill:none;stroke:#000000;stroke-linecap:square;stroke-linejoin:miter;stroke-width:0.8;\"/>\n   </g>\n  </g>\n </g>\n <defs>\n  <clipPath id=\"p904f8a6074\">\n   <rect height=\"217.44\" width=\"334.8\" x=\"36.465625\" y=\"7.2\"/>\n  </clipPath>\n </defs>\n</svg>\n",
      "text/plain": "<Figure size 432x288 with 1 Axes>"
     },
     "metadata": {
      "needs_background": "light"
     },
     "output_type": "display_data"
    }
   ],
   "source": [
    "#plt.plot(train_history)\n",
    "#plt.plot(val_history)\n",
    "plt.plot(loss_history)"
   ]
  },
  {
   "cell_type": "markdown",
   "metadata": {},
   "source": [
    "# Улучшаем процесс тренировки\n",
    "\n",
    "Мы реализуем несколько ключевых оптимизаций, необходимых для тренировки современных нейросетей."
   ]
  },
  {
   "cell_type": "markdown",
   "metadata": {},
   "source": [
    "## Уменьшение скорости обучения (learning rate decay)\n",
    "\n",
    "Одна из необходимых оптимизаций во время тренировки нейронных сетей - постепенное уменьшение скорости обучения по мере тренировки.\n",
    "\n",
    "Один из стандартных методов - уменьшение скорости обучения (learning rate) каждые N эпох на коэффициент d (часто называемый decay). Значения N и d, как всегда, являются гиперпараметрами и должны подбираться на основе эффективности на проверочных данных (validation data). \n",
    "\n",
    "В нашем случае N будет равным 1."
   ]
  },
  {
   "cell_type": "code",
   "execution_count": 45,
   "metadata": {},
   "outputs": [
    {
     "name": "stdout",
     "output_type": "stream",
     "text": "Epoch: 0.000000  Loss: 2.297336, Train accuracy: 0.160000, val accuracy: 0.230000\nEpoch: 1.000000  Loss: 2.293758, Train accuracy: 0.160000, val accuracy: 0.230000\nEpoch: 2.000000  Loss: 2.291662, Train accuracy: 0.160000, val accuracy: 0.230000\nEpoch: 3.000000  Loss: 2.290179, Train accuracy: 0.160000, val accuracy: 0.230000\nEpoch: 4.000000  Loss: 2.289034, Train accuracy: 0.160000, val accuracy: 0.230000\nEpoch: 5.000000  Loss: 2.288103, Train accuracy: 0.160000, val accuracy: 0.230000\nEpoch: 6.000000  Loss: 2.287320, Train accuracy: 0.160000, val accuracy: 0.230000\nEpoch: 7.000000  Loss: 2.286645, Train accuracy: 0.160000, val accuracy: 0.230000\nEpoch: 8.000000  Loss: 2.286052, Train accuracy: 0.160000, val accuracy: 0.230000\nEpoch: 9.000000  Loss: 2.285524, Train accuracy: 0.160000, val accuracy: 0.230000\nEpoch: 10.000000  Loss: 2.285049, Train accuracy: 0.160000, val accuracy: 0.230000\nEpoch: 11.000000  Loss: 2.284616, Train accuracy: 0.160000, val accuracy: 0.230000\nEpoch: 12.000000  Loss: 2.284219, Train accuracy: 0.160000, val accuracy: 0.230000\nEpoch: 13.000000  Loss: 2.283853, Train accuracy: 0.160000, val accuracy: 0.230000\nEpoch: 14.000000  Loss: 2.283513, Train accuracy: 0.160000, val accuracy: 0.230000\nEpoch: 15.000000  Loss: 2.283195, Train accuracy: 0.160000, val accuracy: 0.230000\nEpoch: 16.000000  Loss: 2.282898, Train accuracy: 0.160000, val accuracy: 0.230000\nEpoch: 17.000000  Loss: 2.282618, Train accuracy: 0.160000, val accuracy: 0.230000\nEpoch: 18.000000  Loss: 2.282354, Train accuracy: 0.160000, val accuracy: 0.230000\nEpoch: 19.000000  Loss: 2.282104, Train accuracy: 0.160000, val accuracy: 0.230000\nEpoch: 20.000000  Loss: 2.281867, Train accuracy: 0.160000, val accuracy: 0.230000\nEpoch: 21.000000  Loss: 2.281641, Train accuracy: 0.160000, val accuracy: 0.230000\nEpoch: 22.000000  Loss: 2.281425, Train accuracy: 0.160000, val accuracy: 0.230000\nEpoch: 23.000000  Loss: 2.281219, Train accuracy: 0.160000, val accuracy: 0.230000\nEpoch: 24.000000  Loss: 2.281022, Train accuracy: 0.160000, val accuracy: 0.230000\nEpoch: 25.000000  Loss: 2.280832, Train accuracy: 0.160000, val accuracy: 0.230000\nEpoch: 26.000000  Loss: 2.280650, Train accuracy: 0.160000, val accuracy: 0.230000\nEpoch: 27.000000  Loss: 2.280475, Train accuracy: 0.160000, val accuracy: 0.230000\nEpoch: 28.000000  Loss: 2.280306, Train accuracy: 0.160000, val accuracy: 0.230000\nEpoch: 29.000000  Loss: 2.280143, Train accuracy: 0.160000, val accuracy: 0.230000\nEpoch: 30.000000  Loss: 2.279985, Train accuracy: 0.160000, val accuracy: 0.230000\nEpoch: 31.000000  Loss: 2.279832, Train accuracy: 0.160000, val accuracy: 0.230000\nEpoch: 32.000000  Loss: 2.279685, Train accuracy: 0.160000, val accuracy: 0.230000\nEpoch: 33.000000  Loss: 2.279541, Train accuracy: 0.160000, val accuracy: 0.230000\nEpoch: 34.000000  Loss: 2.279402, Train accuracy: 0.160000, val accuracy: 0.230000\nEpoch: 35.000000  Loss: 2.279267, Train accuracy: 0.160000, val accuracy: 0.230000\nEpoch: 36.000000  Loss: 2.279136, Train accuracy: 0.160000, val accuracy: 0.230000\nEpoch: 37.000000  Loss: 2.279008, Train accuracy: 0.160000, val accuracy: 0.230000\nEpoch: 38.000000  Loss: 2.278884, Train accuracy: 0.160000, val accuracy: 0.230000\nEpoch: 39.000000  Loss: 2.278763, Train accuracy: 0.160000, val accuracy: 0.230000\n"
    }
   ],
   "source": [
    "# TODO Implement learning rate decay inside Trainer.fit method\n",
    "# Decay should happen once per epoch\n",
    "data_size = 100\n",
    "model = TwoLayerNet(n_input = train_X.shape[1], n_output = 10, hidden_layer_size = 150, reg = 1e-10)\n",
    "dataset = Dataset(train_X[:data_size], train_y[:data_size], val_X[:data_size], val_y[:data_size])\n",
    "trainer = Trainer(model, dataset, SGD(), learning_rate_decay=0.99,num_epochs=40, learning_rate=1e-1)\n",
    "\n",
    "initial_learning_rate = trainer.learning_rate\n",
    "loss_history, train_history, val_history = trainer.fit()\n",
    "\n",
    "#print (initial_learning_rate,  trainer.learning_rate)\n",
    "#assert trainer.learning_rate < initial_learning_rate, \"Learning rate should've been reduced\"\n",
    "assert trainer.learning_rate > 0.5*initial_learning_rate, \"Learning rate shouldn'tve been reduced that much!\""
   ]
  },
  {
   "cell_type": "markdown",
   "metadata": {},
   "source": [
    "# Накопление импульса (Momentum SGD)\n",
    "\n",
    "Другой большой класс оптимизаций - использование более эффективных методов градиентного спуска. Мы реализуем один из них - накопление импульса (Momentum SGD).\n",
    "\n",
    "Этот метод хранит скорость движения, использует градиент для ее изменения на каждом шаге, и изменяет веса пропорционально значению скорости.\n",
    "(Физическая аналогия: Вместо скорости градиенты теперь будут задавать ускорение, но будет присутствовать сила трения.)\n",
    "\n",
    "```\n",
    "velocity = momentum * velocity - learning_rate * gradient \n",
    "w = w + velocity\n",
    "```\n",
    "\n",
    "`momentum` здесь коэффициент затухания, который тоже является гиперпараметром (к счастью, для него часто есть хорошее значение по умолчанию, типичный диапазон -- 0.8-0.99).\n",
    "\n",
    "Несколько полезных ссылок, где метод разбирается более подробно:  \n",
    "http://cs231n.github.io/neural-networks-3/#sgd  \n",
    "https://distill.pub/2017/momentum/"
   ]
  },
  {
   "cell_type": "code",
   "execution_count": 47,
   "metadata": {},
   "outputs": [
    {
     "name": "stdout",
     "output_type": "stream",
     "text": "Epoch: 0.000000  Loss: 2.291392, Train accuracy: 0.160000, val accuracy: 0.230000\nEpoch: 1.000000  Loss: 2.269802, Train accuracy: 0.160000, val accuracy: 0.230000\nEpoch: 2.000000  Loss: 2.253592, Train accuracy: 0.160000, val accuracy: 0.230000\nEpoch: 3.000000  Loss: 2.241818, Train accuracy: 0.160000, val accuracy: 0.230000\nEpoch: 4.000000  Loss: 2.231264, Train accuracy: 0.160000, val accuracy: 0.220000\nEpoch: 5.000000  Loss: 2.219486, Train accuracy: 0.210000, val accuracy: 0.200000\nEpoch: 6.000000  Loss: 2.205741, Train accuracy: 0.210000, val accuracy: 0.150000\nEpoch: 7.000000  Loss: 2.191353, Train accuracy: 0.180000, val accuracy: 0.150000\nEpoch: 8.000000  Loss: 2.178620, Train accuracy: 0.180000, val accuracy: 0.140000\nEpoch: 9.000000  Loss: 2.168497, Train accuracy: 0.180000, val accuracy: 0.140000\nEpoch: 10.000000  Loss: 2.160058, Train accuracy: 0.180000, val accuracy: 0.140000\nEpoch: 11.000000  Loss: 2.152235, Train accuracy: 0.180000, val accuracy: 0.140000\nEpoch: 12.000000  Loss: 2.144725, Train accuracy: 0.180000, val accuracy: 0.140000\nEpoch: 13.000000  Loss: 2.137617, Train accuracy: 0.190000, val accuracy: 0.150000\nEpoch: 14.000000  Loss: 2.130953, Train accuracy: 0.190000, val accuracy: 0.150000\nEpoch: 15.000000  Loss: 2.124636, Train accuracy: 0.200000, val accuracy: 0.150000\nEpoch: 16.000000  Loss: 2.118532, Train accuracy: 0.200000, val accuracy: 0.160000\nEpoch: 17.000000  Loss: 2.112553, Train accuracy: 0.210000, val accuracy: 0.160000\nEpoch: 18.000000  Loss: 2.106661, Train accuracy: 0.210000, val accuracy: 0.160000\nEpoch: 19.000000  Loss: 2.100809, Train accuracy: 0.210000, val accuracy: 0.160000\nEpoch: 20.000000  Loss: 2.094982, Train accuracy: 0.210000, val accuracy: 0.160000\nEpoch: 21.000000  Loss: 2.089177, Train accuracy: 0.210000, val accuracy: 0.160000\nEpoch: 22.000000  Loss: 2.083380, Train accuracy: 0.210000, val accuracy: 0.160000\nEpoch: 23.000000  Loss: 2.077582, Train accuracy: 0.220000, val accuracy: 0.160000\nEpoch: 24.000000  Loss: 2.071791, Train accuracy: 0.230000, val accuracy: 0.160000\nEpoch: 25.000000  Loss: 2.065975, Train accuracy: 0.230000, val accuracy: 0.160000\nEpoch: 26.000000  Loss: 2.060136, Train accuracy: 0.240000, val accuracy: 0.160000\nEpoch: 27.000000  Loss: 2.054268, Train accuracy: 0.240000, val accuracy: 0.160000\nEpoch: 28.000000  Loss: 2.048350, Train accuracy: 0.240000, val accuracy: 0.160000\nEpoch: 29.000000  Loss: 2.042372, Train accuracy: 0.240000, val accuracy: 0.160000\nEpoch: 30.000000  Loss: 2.036343, Train accuracy: 0.250000, val accuracy: 0.160000\nEpoch: 31.000000  Loss: 2.030281, Train accuracy: 0.260000, val accuracy: 0.160000\nEpoch: 32.000000  Loss: 2.024175, Train accuracy: 0.260000, val accuracy: 0.160000\nEpoch: 33.000000  Loss: 2.018029, Train accuracy: 0.270000, val accuracy: 0.160000\nEpoch: 34.000000  Loss: 2.011856, Train accuracy: 0.280000, val accuracy: 0.160000\nEpoch: 35.000000  Loss: 2.005649, Train accuracy: 0.280000, val accuracy: 0.160000\nEpoch: 36.000000  Loss: 1.999397, Train accuracy: 0.280000, val accuracy: 0.160000\nEpoch: 37.000000  Loss: 1.993132, Train accuracy: 0.290000, val accuracy: 0.160000\nEpoch: 38.000000  Loss: 1.986863, Train accuracy: 0.290000, val accuracy: 0.170000\nEpoch: 39.000000  Loss: 1.980594, Train accuracy: 0.290000, val accuracy: 0.170000\nEpoch: 40.000000  Loss: 1.974322, Train accuracy: 0.290000, val accuracy: 0.170000\nEpoch: 41.000000  Loss: 1.968047, Train accuracy: 0.290000, val accuracy: 0.170000\nEpoch: 42.000000  Loss: 1.961770, Train accuracy: 0.290000, val accuracy: 0.170000\nEpoch: 43.000000  Loss: 1.955515, Train accuracy: 0.290000, val accuracy: 0.170000\nEpoch: 44.000000  Loss: 1.949277, Train accuracy: 0.290000, val accuracy: 0.170000\nEpoch: 45.000000  Loss: 1.943060, Train accuracy: 0.300000, val accuracy: 0.180000\nEpoch: 46.000000  Loss: 1.936871, Train accuracy: 0.300000, val accuracy: 0.180000\nEpoch: 47.000000  Loss: 1.930712, Train accuracy: 0.310000, val accuracy: 0.200000\nEpoch: 48.000000  Loss: 1.924594, Train accuracy: 0.310000, val accuracy: 0.200000\nEpoch: 49.000000  Loss: 1.918522, Train accuracy: 0.320000, val accuracy: 0.200000\nEpoch: 50.000000  Loss: 1.912491, Train accuracy: 0.320000, val accuracy: 0.200000\nEpoch: 51.000000  Loss: 1.906505, Train accuracy: 0.330000, val accuracy: 0.180000\nEpoch: 52.000000  Loss: 1.900565, Train accuracy: 0.350000, val accuracy: 0.190000\nEpoch: 53.000000  Loss: 1.894662, Train accuracy: 0.350000, val accuracy: 0.190000\nEpoch: 54.000000  Loss: 1.888799, Train accuracy: 0.350000, val accuracy: 0.190000\nEpoch: 55.000000  Loss: 1.882985, Train accuracy: 0.350000, val accuracy: 0.200000\nEpoch: 56.000000  Loss: 1.877218, Train accuracy: 0.350000, val accuracy: 0.200000\nEpoch: 57.000000  Loss: 1.871508, Train accuracy: 0.350000, val accuracy: 0.210000\nEpoch: 58.000000  Loss: 1.865849, Train accuracy: 0.360000, val accuracy: 0.200000\nEpoch: 59.000000  Loss: 1.860241, Train accuracy: 0.360000, val accuracy: 0.200000\n"
    }
   ],
   "source": [
    "# TODO: Implement MomentumSGD.update function in optim.py\n",
    "\n",
    "model = TwoLayerNet(n_input = train_X.shape[1], n_output = 10, hidden_layer_size = 150, reg = 1e-7)\n",
    "dataset = Dataset(train_X[:data_size], train_y[:data_size], val_X[:data_size], val_y[:data_size])\n",
    "trainer = Trainer(model, dataset, MomentumSGD(), learning_rate=1e-1, learning_rate_decay=0.99, num_epochs=60)\n",
    "\n",
    "# You should see even better results than before!\n",
    "loss_history, train_history, val_history = trainer.fit()"
   ]
  },
  {
   "cell_type": "markdown",
   "metadata": {},
   "source": [
    "# Ну что, давайте уже тренировать сеть!"
   ]
  },
  {
   "cell_type": "markdown",
   "metadata": {},
   "source": [
    "## Последний тест - переобучимся (overfit) на маленьком наборе данных\n",
    "\n",
    "Хороший способ проверить, все ли реализовано корректно - переобучить сеть на маленьком наборе данных.  \n",
    "Наша модель обладает достаточной мощностью, чтобы приблизить маленький набор данных идеально, поэтому мы ожидаем, что на нем мы быстро дойдем до 100% точности на тренировочном наборе. \n",
    "\n",
    "Если этого не происходит, то где-то была допущена ошибка!"
   ]
  },
  {
   "cell_type": "code",
   "execution_count": 50,
   "metadata": {},
   "outputs": [
    {
     "name": "stdout",
     "output_type": "stream",
     "text": "Epoch: 0.000000  Loss: 2.323299, Train accuracy: 0.200000, val accuracy: 0.133333\nEpoch: 1.000000  Loss: 2.309097, Train accuracy: 0.200000, val accuracy: 0.133333\nEpoch: 2.000000  Loss: 2.295505, Train accuracy: 0.200000, val accuracy: 0.133333\nEpoch: 3.000000  Loss: 2.281754, Train accuracy: 0.200000, val accuracy: 0.133333\nEpoch: 4.000000  Loss: 2.266076, Train accuracy: 0.200000, val accuracy: 0.066667\nEpoch: 5.000000  Loss: 2.244251, Train accuracy: 0.266667, val accuracy: 0.000000\nEpoch: 6.000000  Loss: 2.207211, Train accuracy: 0.266667, val accuracy: 0.000000\nEpoch: 7.000000  Loss: 2.142258, Train accuracy: 0.266667, val accuracy: 0.000000\nEpoch: 8.000000  Loss: 2.056508, Train accuracy: 0.400000, val accuracy: 0.000000\nEpoch: 9.000000  Loss: 1.982507, Train accuracy: 0.400000, val accuracy: 0.000000\nEpoch: 10.000000  Loss: 1.913396, Train accuracy: 0.400000, val accuracy: 0.000000\nEpoch: 11.000000  Loss: 1.841971, Train accuracy: 0.400000, val accuracy: 0.000000\nEpoch: 12.000000  Loss: 1.784823, Train accuracy: 0.400000, val accuracy: 0.000000\nEpoch: 13.000000  Loss: 1.751108, Train accuracy: 0.400000, val accuracy: 0.000000\nEpoch: 14.000000  Loss: 1.729991, Train accuracy: 0.400000, val accuracy: 0.000000\nEpoch: 15.000000  Loss: 1.714304, Train accuracy: 0.400000, val accuracy: 0.000000\nEpoch: 16.000000  Loss: 1.701346, Train accuracy: 0.400000, val accuracy: 0.000000\nEpoch: 17.000000  Loss: 1.689713, Train accuracy: 0.400000, val accuracy: 0.000000\nEpoch: 18.000000  Loss: 1.678378, Train accuracy: 0.400000, val accuracy: 0.000000\nEpoch: 19.000000  Loss: 1.666711, Train accuracy: 0.466667, val accuracy: 0.000000\nEpoch: 20.000000  Loss: 1.654156, Train accuracy: 0.466667, val accuracy: 0.066667\nEpoch: 21.000000  Loss: 1.640562, Train accuracy: 0.466667, val accuracy: 0.066667\nEpoch: 22.000000  Loss: 1.625911, Train accuracy: 0.466667, val accuracy: 0.066667\nEpoch: 23.000000  Loss: 1.610284, Train accuracy: 0.466667, val accuracy: 0.066667\nEpoch: 24.000000  Loss: 1.593831, Train accuracy: 0.466667, val accuracy: 0.066667\nEpoch: 25.000000  Loss: 1.577045, Train accuracy: 0.466667, val accuracy: 0.066667\nEpoch: 26.000000  Loss: 1.560323, Train accuracy: 0.533333, val accuracy: 0.066667\nEpoch: 27.000000  Loss: 1.543979, Train accuracy: 0.600000, val accuracy: 0.066667\nEpoch: 28.000000  Loss: 1.528129, Train accuracy: 0.600000, val accuracy: 0.066667\nEpoch: 29.000000  Loss: 1.513245, Train accuracy: 0.600000, val accuracy: 0.066667\nEpoch: 30.000000  Loss: 1.499279, Train accuracy: 0.600000, val accuracy: 0.066667\nEpoch: 31.000000  Loss: 1.486073, Train accuracy: 0.600000, val accuracy: 0.066667\nEpoch: 32.000000  Loss: 1.473382, Train accuracy: 0.600000, val accuracy: 0.066667\nEpoch: 33.000000  Loss: 1.460808, Train accuracy: 0.666667, val accuracy: 0.066667\nEpoch: 34.000000  Loss: 1.448323, Train accuracy: 0.666667, val accuracy: 0.066667\nEpoch: 35.000000  Loss: 1.435537, Train accuracy: 0.733333, val accuracy: 0.066667\nEpoch: 36.000000  Loss: 1.422120, Train accuracy: 0.733333, val accuracy: 0.066667\nEpoch: 37.000000  Loss: 1.408448, Train accuracy: 0.733333, val accuracy: 0.066667\nEpoch: 38.000000  Loss: 1.394002, Train accuracy: 0.733333, val accuracy: 0.066667\nEpoch: 39.000000  Loss: 1.379498, Train accuracy: 0.733333, val accuracy: 0.066667\nEpoch: 40.000000  Loss: 1.364869, Train accuracy: 0.733333, val accuracy: 0.066667\nEpoch: 41.000000  Loss: 1.350776, Train accuracy: 0.800000, val accuracy: 0.066667\nEpoch: 42.000000  Loss: 1.337460, Train accuracy: 0.800000, val accuracy: 0.066667\nEpoch: 43.000000  Loss: 1.325336, Train accuracy: 0.800000, val accuracy: 0.066667\nEpoch: 44.000000  Loss: 1.314502, Train accuracy: 0.800000, val accuracy: 0.066667\nEpoch: 45.000000  Loss: 1.305083, Train accuracy: 0.800000, val accuracy: 0.066667\nEpoch: 46.000000  Loss: 1.296675, Train accuracy: 0.800000, val accuracy: 0.066667\nEpoch: 47.000000  Loss: 1.289630, Train accuracy: 0.800000, val accuracy: 0.000000\nEpoch: 48.000000  Loss: 1.283457, Train accuracy: 0.800000, val accuracy: 0.000000\nEpoch: 49.000000  Loss: 1.278034, Train accuracy: 0.800000, val accuracy: 0.000000\nEpoch: 50.000000  Loss: 1.273313, Train accuracy: 0.800000, val accuracy: 0.000000\nEpoch: 51.000000  Loss: 1.269023, Train accuracy: 0.800000, val accuracy: 0.000000\nEpoch: 52.000000  Loss: 1.265199, Train accuracy: 0.800000, val accuracy: 0.000000\nEpoch: 53.000000  Loss: 1.261645, Train accuracy: 0.800000, val accuracy: 0.000000\nEpoch: 54.000000  Loss: 1.258332, Train accuracy: 0.800000, val accuracy: 0.000000\nEpoch: 55.000000  Loss: 1.255143, Train accuracy: 0.800000, val accuracy: 0.000000\nEpoch: 56.000000  Loss: 1.252132, Train accuracy: 0.800000, val accuracy: 0.000000\nEpoch: 57.000000  Loss: 1.249156, Train accuracy: 0.800000, val accuracy: 0.000000\nEpoch: 58.000000  Loss: 1.246245, Train accuracy: 0.800000, val accuracy: 0.000000\nEpoch: 59.000000  Loss: 1.243318, Train accuracy: 0.800000, val accuracy: 0.000000\nEpoch: 60.000000  Loss: 1.240314, Train accuracy: 0.800000, val accuracy: 0.000000\nEpoch: 61.000000  Loss: 1.237314, Train accuracy: 0.800000, val accuracy: 0.000000\nEpoch: 62.000000  Loss: 1.234183, Train accuracy: 0.800000, val accuracy: 0.000000\nEpoch: 63.000000  Loss: 1.231075, Train accuracy: 0.800000, val accuracy: 0.000000\nEpoch: 64.000000  Loss: 1.227726, Train accuracy: 0.800000, val accuracy: 0.000000\nEpoch: 65.000000  Loss: 1.224351, Train accuracy: 0.800000, val accuracy: 0.000000\nEpoch: 66.000000  Loss: 1.220969, Train accuracy: 0.800000, val accuracy: 0.000000\nEpoch: 67.000000  Loss: 1.217299, Train accuracy: 0.800000, val accuracy: 0.000000\nEpoch: 68.000000  Loss: 1.213570, Train accuracy: 0.800000, val accuracy: 0.000000\nEpoch: 69.000000  Loss: 1.209801, Train accuracy: 0.866667, val accuracy: 0.000000\nEpoch: 70.000000  Loss: 1.205803, Train accuracy: 0.866667, val accuracy: 0.000000\nEpoch: 71.000000  Loss: 1.201706, Train accuracy: 0.866667, val accuracy: 0.000000\nEpoch: 72.000000  Loss: 1.197577, Train accuracy: 0.866667, val accuracy: 0.000000\nEpoch: 73.000000  Loss: 1.193313, Train accuracy: 0.866667, val accuracy: 0.000000\nEpoch: 74.000000  Loss: 1.189030, Train accuracy: 0.866667, val accuracy: 0.000000\nEpoch: 75.000000  Loss: 1.184680, Train accuracy: 0.866667, val accuracy: 0.000000\nEpoch: 76.000000  Loss: 1.180391, Train accuracy: 0.933333, val accuracy: 0.000000\nEpoch: 77.000000  Loss: 1.176049, Train accuracy: 0.933333, val accuracy: 0.000000\nEpoch: 78.000000  Loss: 1.171905, Train accuracy: 0.933333, val accuracy: 0.000000\nEpoch: 79.000000  Loss: 1.167800, Train accuracy: 0.933333, val accuracy: 0.000000\nEpoch: 80.000000  Loss: 1.163843, Train accuracy: 0.933333, val accuracy: 0.000000\nEpoch: 81.000000  Loss: 1.159948, Train accuracy: 0.933333, val accuracy: 0.000000\nEpoch: 82.000000  Loss: 1.156226, Train accuracy: 0.933333, val accuracy: 0.000000\nEpoch: 83.000000  Loss: 1.152683, Train accuracy: 1.000000, val accuracy: 0.000000\nEpoch: 84.000000  Loss: 1.149290, Train accuracy: 1.000000, val accuracy: 0.000000\nEpoch: 85.000000  Loss: 1.146056, Train accuracy: 1.000000, val accuracy: 0.000000\nEpoch: 86.000000  Loss: 1.143023, Train accuracy: 1.000000, val accuracy: 0.000000\nEpoch: 87.000000  Loss: 1.140152, Train accuracy: 1.000000, val accuracy: 0.000000\nEpoch: 88.000000  Loss: 1.137381, Train accuracy: 1.000000, val accuracy: 0.000000\nEpoch: 89.000000  Loss: 1.134668, Train accuracy: 1.000000, val accuracy: 0.000000\nEpoch: 90.000000  Loss: 1.132134, Train accuracy: 1.000000, val accuracy: 0.000000\nEpoch: 91.000000  Loss: 1.129810, Train accuracy: 1.000000, val accuracy: 0.000000\nEpoch: 92.000000  Loss: 1.127645, Train accuracy: 1.000000, val accuracy: 0.000000\nEpoch: 93.000000  Loss: 1.125686, Train accuracy: 1.000000, val accuracy: 0.000000\nEpoch: 94.000000  Loss: 1.123858, Train accuracy: 1.000000, val accuracy: 0.000000\nEpoch: 95.000000  Loss: 1.122090, Train accuracy: 1.000000, val accuracy: 0.000000\nEpoch: 96.000000  Loss: 1.120519, Train accuracy: 1.000000, val accuracy: 0.000000\nEpoch: 97.000000  Loss: 1.119112, Train accuracy: 1.000000, val accuracy: 0.000000\nEpoch: 98.000000  Loss: 1.117745, Train accuracy: 1.000000, val accuracy: 0.000000\nEpoch: 99.000000  Loss: 1.116407, Train accuracy: 1.000000, val accuracy: 0.000000\nEpoch: 100.000000  Loss: 1.115178, Train accuracy: 1.000000, val accuracy: 0.000000\nEpoch: 101.000000  Loss: 1.114020, Train accuracy: 1.000000, val accuracy: 0.000000\nEpoch: 102.000000  Loss: 1.112929, Train accuracy: 1.000000, val accuracy: 0.000000\nEpoch: 103.000000  Loss: 1.111930, Train accuracy: 1.000000, val accuracy: 0.000000\nEpoch: 104.000000  Loss: 1.110942, Train accuracy: 1.000000, val accuracy: 0.000000\nEpoch: 105.000000  Loss: 1.109996, Train accuracy: 1.000000, val accuracy: 0.000000\nEpoch: 106.000000  Loss: 1.109079, Train accuracy: 1.000000, val accuracy: 0.000000\nEpoch: 107.000000  Loss: 1.108117, Train accuracy: 1.000000, val accuracy: 0.000000\nEpoch: 108.000000  Loss: 1.107277, Train accuracy: 1.000000, val accuracy: 0.000000\nEpoch: 109.000000  Loss: 1.106438, Train accuracy: 1.000000, val accuracy: 0.000000\nEpoch: 110.000000  Loss: 1.105630, Train accuracy: 1.000000, val accuracy: 0.000000\nEpoch: 111.000000  Loss: 1.104841, Train accuracy: 1.000000, val accuracy: 0.000000\nEpoch: 112.000000  Loss: 1.104056, Train accuracy: 1.000000, val accuracy: 0.000000\nEpoch: 113.000000  Loss: 1.103335, Train accuracy: 1.000000, val accuracy: 0.000000\nEpoch: 114.000000  Loss: 1.102629, Train accuracy: 1.000000, val accuracy: 0.000000\nEpoch: 115.000000  Loss: 1.101909, Train accuracy: 1.000000, val accuracy: 0.000000\nEpoch: 116.000000  Loss: 1.101207, Train accuracy: 1.000000, val accuracy: 0.000000\nEpoch: 117.000000  Loss: 1.100523, Train accuracy: 1.000000, val accuracy: 0.000000\nEpoch: 118.000000  Loss: 1.099806, Train accuracy: 1.000000, val accuracy: 0.000000\nEpoch: 119.000000  Loss: 1.099199, Train accuracy: 1.000000, val accuracy: 0.000000\nEpoch: 120.000000  Loss: 1.098555, Train accuracy: 1.000000, val accuracy: 0.000000\nEpoch: 121.000000  Loss: 1.097979, Train accuracy: 1.000000, val accuracy: 0.000000\nEpoch: 122.000000  Loss: 1.097296, Train accuracy: 1.000000, val accuracy: 0.000000\nEpoch: 123.000000  Loss: 1.096684, Train accuracy: 1.000000, val accuracy: 0.000000\nEpoch: 124.000000  Loss: 1.096098, Train accuracy: 1.000000, val accuracy: 0.000000\nEpoch: 125.000000  Loss: 1.095523, Train accuracy: 1.000000, val accuracy: 0.000000\nEpoch: 126.000000  Loss: 1.095013, Train accuracy: 1.000000, val accuracy: 0.000000\nEpoch: 127.000000  Loss: 1.094381, Train accuracy: 1.000000, val accuracy: 0.000000\nEpoch: 128.000000  Loss: 1.093843, Train accuracy: 1.000000, val accuracy: 0.000000\nEpoch: 129.000000  Loss: 1.093318, Train accuracy: 1.000000, val accuracy: 0.000000\nEpoch: 130.000000  Loss: 1.092769, Train accuracy: 1.000000, val accuracy: 0.000000\nEpoch: 131.000000  Loss: 1.092205, Train accuracy: 1.000000, val accuracy: 0.000000\nEpoch: 132.000000  Loss: 1.091732, Train accuracy: 1.000000, val accuracy: 0.000000\nEpoch: 133.000000  Loss: 1.091216, Train accuracy: 1.000000, val accuracy: 0.000000\nEpoch: 134.000000  Loss: 1.090676, Train accuracy: 1.000000, val accuracy: 0.000000\nEpoch: 135.000000  Loss: 1.090202, Train accuracy: 1.000000, val accuracy: 0.000000\nEpoch: 136.000000  Loss: 1.089673, Train accuracy: 1.000000, val accuracy: 0.000000\nEpoch: 137.000000  Loss: 1.089277, Train accuracy: 1.000000, val accuracy: 0.000000\nEpoch: 138.000000  Loss: 1.088714, Train accuracy: 1.000000, val accuracy: 0.000000\nEpoch: 139.000000  Loss: 1.088341, Train accuracy: 1.000000, val accuracy: 0.000000\nEpoch: 140.000000  Loss: 1.087772, Train accuracy: 1.000000, val accuracy: 0.000000\nEpoch: 141.000000  Loss: 1.087356, Train accuracy: 1.000000, val accuracy: 0.000000\nEpoch: 142.000000  Loss: 1.086899, Train accuracy: 1.000000, val accuracy: 0.000000\nEpoch: 143.000000  Loss: 1.086451, Train accuracy: 1.000000, val accuracy: 0.000000\nEpoch: 144.000000  Loss: 1.086030, Train accuracy: 1.000000, val accuracy: 0.000000\nEpoch: 145.000000  Loss: 1.085571, Train accuracy: 1.000000, val accuracy: 0.000000\nEpoch: 146.000000  Loss: 1.085183, Train accuracy: 1.000000, val accuracy: 0.000000\nEpoch: 147.000000  Loss: 1.084713, Train accuracy: 1.000000, val accuracy: 0.000000\nEpoch: 148.000000  Loss: 1.084327, Train accuracy: 1.000000, val accuracy: 0.000000\nEpoch: 149.000000  Loss: 1.083924, Train accuracy: 1.000000, val accuracy: 0.000000\n"
    }
   ],
   "source": [
    "data_size = 15\n",
    "model = TwoLayerNet(n_input = train_X.shape[1], n_output = 10, hidden_layer_size = 100, reg = 1e-1)\n",
    "dataset = Dataset(train_X[:data_size], train_y[:data_size], val_X[:data_size], val_y[:data_size])\n",
    "trainer = Trainer(model, dataset, SGD(), learning_rate=1e-1, num_epochs=150, batch_size=5)\n",
    "\n",
    "# You should expect this to reach 1.0 training accuracy \n",
    "loss_history, train_history, val_history = trainer.fit()"
   ]
  },
  {
   "cell_type": "markdown",
   "metadata": {},
   "source": [
    "Теперь найдем гипепараметры, для которых этот процесс сходится быстрее.\n",
    "Если все реализовано корректно, то существуют параметры, при которых процесс сходится в **20** эпох или еще быстрее.\n",
    "Найдите их!"
   ]
  },
  {
   "cell_type": "code",
   "execution_count": 55,
   "metadata": {},
   "outputs": [
    {
     "name": "stdout",
     "output_type": "stream",
     "text": "Epoch: 0.000000  Loss: 2.291065, Train accuracy: 0.200000, val accuracy: 0.133333\nEpoch: 1.000000  Loss: 2.250806, Train accuracy: 0.200000, val accuracy: 0.133333\nEpoch: 2.000000  Loss: 2.157127, Train accuracy: 0.266667, val accuracy: 0.000000\nEpoch: 3.000000  Loss: 1.865158, Train accuracy: 0.400000, val accuracy: 0.000000\nEpoch: 4.000000  Loss: 1.531273, Train accuracy: 0.333333, val accuracy: 0.000000\nEpoch: 5.000000  Loss: 1.357440, Train accuracy: 0.400000, val accuracy: 0.133333\nEpoch: 6.000000  Loss: 1.125732, Train accuracy: 0.666667, val accuracy: 0.000000\nEpoch: 7.000000  Loss: 0.912389, Train accuracy: 0.666667, val accuracy: 0.066667\nEpoch: 8.000000  Loss: 0.629197, Train accuracy: 0.800000, val accuracy: 0.133333\nEpoch: 9.000000  Loss: 0.431400, Train accuracy: 0.933333, val accuracy: 0.066667\nEpoch: 10.000000  Loss: 0.235938, Train accuracy: 1.000000, val accuracy: 0.066667\nEpoch: 11.000000  Loss: 0.097422, Train accuracy: 1.000000, val accuracy: 0.000000\nEpoch: 12.000000  Loss: 0.045227, Train accuracy: 1.000000, val accuracy: 0.000000\nEpoch: 13.000000  Loss: 0.020311, Train accuracy: 1.000000, val accuracy: 0.000000\nEpoch: 14.000000  Loss: 0.009899, Train accuracy: 1.000000, val accuracy: 0.000000\nEpoch: 15.000000  Loss: 0.005203, Train accuracy: 1.000000, val accuracy: 0.000000\nEpoch: 16.000000  Loss: 0.003131, Train accuracy: 1.000000, val accuracy: 0.000000\nEpoch: 17.000000  Loss: 0.002132, Train accuracy: 1.000000, val accuracy: 0.000000\nEpoch: 18.000000  Loss: 0.001575, Train accuracy: 1.000000, val accuracy: 0.000000\nEpoch: 19.000000  Loss: 0.001215, Train accuracy: 1.000000, val accuracy: 0.000000\n"
    }
   ],
   "source": [
    "# Now, tweak some hyper parameters and make it train to 1.0 accuracy in 20 epochs or less\n",
    "\n",
    "model = TwoLayerNet(n_input = train_X.shape[1], n_output = 10, hidden_layer_size = 300, reg = 1e-7)\n",
    "dataset = Dataset(train_X[:data_size], train_y[:data_size], val_X[:data_size], val_y[:data_size])\n",
    "# TODO: Change any hyperparamers or optimizators to reach training accuracy in 20 epochs\n",
    "trainer = Trainer(model, dataset, MomentumSGD(), learning_rate=1e-1, num_epochs=20, batch_size=5)\n",
    "\n",
    "loss_history, train_history, val_history = trainer.fit()"
   ]
  },
  {
   "cell_type": "markdown",
   "metadata": {},
   "source": [
    "# Итак, основное мероприятие!\n",
    "\n",
    "Натренируйте лучшую нейросеть! Можно добавлять и изменять параметры, менять количество нейронов в слоях сети и как угодно экспериментировать. \n",
    "\n",
    "Добейтесь точности лучше **60%** на validation set."
   ]
  },
  {
   "cell_type": "code",
   "execution_count": 117,
   "metadata": {},
   "outputs": [
    {
     "name": "stdout",
     "output_type": "stream",
     "text": "lr= 0.110000, rs= 0.000000, lrd= 0.999000, hl=250.000000, e=250.000000, bs=50.000000\n"
    }
   ],
   "source": [
    "# Let's train the best one-hidden-layer network we can\n",
    "ts = 1000 \n",
    "\n",
    "learning_rates = np.array([11e-2])\n",
    "reg_strength = np.array([1e-7])\n",
    "learning_rate_decay = np.array([0.999])\n",
    "hidden_layer_size = np.array([250])\n",
    "num_epochs = np.array([250])\n",
    "batch_size = np.array([50])\n",
    "\n",
    "best_classifier = None\n",
    "\n",
    "# TODO find the best hyperparameters to train the network\n",
    "# Don't hesitate to add new values to the arrays above, perform experiments, use any tricks you want\n",
    "# You should expect to get to at least 40% of valudation accuracy\n",
    "# Save loss/train/history of the best classifier to the variables above\n",
    "max_val = 0\n",
    "\n",
    "for lr in learning_rates:\n",
    "    for rs in reg_strength:\n",
    "        for lrd in learning_rate_decay:\n",
    "            for hl in hidden_layer_size:\n",
    "                for e in num_epochs:\n",
    "                    for bs in batch_size:\n",
    "                        print(\"lr= %f, rs= %f, lrd= %f, hl=%f, e=%f, bs=%f\" %(lr, rs, lrd, hl,\n",
    "                                                                                e, bs))\n",
    "                        dataset = Dataset(train_X, train_y, val_X, val_y)\n",
    "\n",
    "                        model = TwoLayerNet(n_input = train_X.shape[1], \n",
    "                                            n_output = 10, \n",
    "                                            hidden_layer_size = hl,\n",
    "                                            reg = rs)\n",
    "\n",
    "                        trainer = Trainer(model, dataset, MomentumSGD(), \n",
    "                                            learning_rate=lr,\n",
    "                                            num_epochs=e, \n",
    "                                            batch_size=bs,\n",
    "                                            learning_rate_decay=lrd)\n",
    "\n",
    "                        loss_history, train_history, val_history = trainer.fit()\n",
    "                        if (max_val < val_history):\n",
    "                            max_val = val_history\n",
    "                            best_classifier = model\n",
    "                            print(\"Max_val = \", max_val)\n",
    "\n",
    "\n",
    "print('best validation accuracy achieved: %f' % max_val)"
   ]
  },
  {
   "cell_type": "code",
   "execution_count": null,
   "metadata": {},
   "outputs": [],
   "source": [
    "plt.figure(figsize=(15, 7))\n",
    "plt.subplot(211)\n",
    "plt.title(\"Loss\")\n",
    "plt.plot(loss_history)\n",
    "plt.subplot(212)\n",
    "plt.title(\"Train/validation accuracy\")\n",
    "plt.plot(train_history)\n",
    "plt.plot(val_history)"
   ]
  },
  {
   "cell_type": "markdown",
   "metadata": {},
   "source": [
    "# Как обычно, посмотрим, как наша лучшая модель работает на тестовых данных"
   ]
  },
  {
   "cell_type": "code",
   "execution_count": 115,
   "metadata": {},
   "outputs": [
    {
     "name": "stdout",
     "output_type": "stream",
     "text": "Neural net test set accuracy: 0.511000\n"
    }
   ],
   "source": [
    "test_pred = best_classifier.predict(test_X)\n",
    "test_accuracy = multiclass_accuracy(test_pred, test_y)\n",
    "print('Neural net test set accuracy: %f' % (test_accuracy, ))"
   ]
  },
  {
   "cell_type": "code",
   "execution_count": 116,
   "metadata": {},
   "outputs": [
    {
     "data": {
      "text/plain": "(9000, 3072)"
     },
     "execution_count": 116,
     "metadata": {},
     "output_type": "execute_result"
    }
   ],
   "source": [
    "train_X.shape\n"
   ]
  }
 ],
 "metadata": {
  "kernelspec": {
   "display_name": "Python 3",
   "language": "python",
   "name": "python3"
  },
  "language_info": {
   "codemirror_mode": {
    "name": "ipython",
    "version": 3
   },
   "file_extension": ".py",
   "mimetype": "text/x-python",
   "name": "python",
   "nbconvert_exporter": "python",
   "pygments_lexer": "ipython3",
   "version": "3.7.5-final"
  }
 },
 "nbformat": 4,
 "nbformat_minor": 2
}