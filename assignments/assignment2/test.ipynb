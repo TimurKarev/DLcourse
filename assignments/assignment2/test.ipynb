{
 "nbformat": 4,
 "nbformat_minor": 2,
 "metadata": {
  "language_info": {
   "name": "python",
   "codemirror_mode": {
    "name": "ipython",
    "version": 3
   },
   "version": "3.7.5-final"
  },
  "orig_nbformat": 2,
  "file_extension": ".py",
  "mimetype": "text/x-python",
  "name": "python",
  "npconvert_exporter": "python",
  "pygments_lexer": "ipython3",
  "version": 3,
  "kernelspec": {
   "name": "python3",
   "display_name": "Python 3"
  }
 },
 "cells": [
  {
   "source": [
    "import numpy as np\n",
    ""
   ],
   "cell_type": "code",
   "outputs": [],
   "metadata": {},
   "execution_count": 1
  },
  {
   "source": [
    "a = 5\n",
    "b = a\n",
    "b += 1\n",
    "a"
   ],
   "cell_type": "code",
   "outputs": [
    {
     "output_type": "execute_result",
     "data": {
      "text/plain": "5"
     },
     "metadata": {},
     "execution_count": 2
    }
   ],
   "metadata": {},
   "execution_count": 2
  },
  {
   "cell_type": "code",
   "execution_count": 15,
   "metadata": {},
   "outputs": [
    {
     "data": {
      "text/plain": "array([[ 1. , -2. ,  3. ],\n       [-1. ,  2. ,  0.1]])"
     },
     "execution_count": 15,
     "metadata": {},
     "output_type": "execute_result"
    }
   ],
   "source": [
    "X = np.array([[1,-2,3],\n",
    "              [-1, 2, 0.1]\n",
    "              ])\n",
    "x_mask = X.copy()\n",
    "x_mask"
   ]
  },
  {
   "cell_type": "code",
   "execution_count": 16,
   "metadata": {},
   "outputs": [
    {
     "data": {
      "text/plain": "array([[1. , 0. , 3. ],\n       [0. , 2. , 0.1]])"
     },
     "execution_count": 16,
     "metadata": {},
     "output_type": "execute_result"
    }
   ],
   "source": [
    "x_mask[x_mask<0] = 0  \n",
    "x_mask"
   ]
  },
  {
   "cell_type": "code",
   "execution_count": 28,
   "metadata": {},
   "outputs": [],
   "source": [
    "from layers import ReLULayer\n"
   ]
  },
  {
   "cell_type": "code",
   "execution_count": 34,
   "metadata": {},
   "outputs": [
    {
     "name": "stdout",
     "output_type": "stream",
     "text": "d_out \n [[-1.41668121  1.24549017  0.13181886]\n [-0.79617645  0.23784428  1.07801604]]\ndX= [[1. 0. 1.]\n [0. 1. 1.]]\nAnswer =  [[-1.41668121 -0.79617645 -2.21285765]\n [ 1.24549017  0.23784428  1.48333445]\n [ 0.13181886  1.07801604  1.20983489]]\nOutput\n [[1.  0.  3. ]\n [0.  2.  0.1]]\n"
    }
   ],
   "source": [
    "%reload_ext autoreload\n",
    "%autoreload 2\n",
    "\n",
    "X = np.array([[1,-2,3],\n",
    "              [-1, 2, 0.1]\n",
    "              ])\n",
    "layer = ReLULayer()\n",
    "output = layer.forward(X)\n",
    "output_weight = np.random.randn(*output.shape)\n",
    "\n",
    "def helper_func(x):\n",
    "    output = layer.forward(x)\n",
    "    loss = np.sum(output * output_weight)\n",
    "    d_out = np.ones_like(output) * output_weight\n",
    "    print (\"d_out \\n\", d_out)\n",
    "    grad = layer.backward(d_out)\n",
    "    return grad\n",
    "\n",
    "print(\"Answer = \", helper_func(X))\n",
    "\n",
    "print('Output\\n',output)\n",
    "#print('output_weight\\n', output_weight)\n",
    "#X"
   ]
  },
  {
   "cell_type": "code",
   "execution_count": 0,
   "metadata": {},
   "outputs": [],
   "source": [
    "print('Output\\n',output)\n",
    "print('output_weight\\n', output_weight)"
   ]
  }
 ]
}